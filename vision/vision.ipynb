{
 "cells": [
  {
   "cell_type": "markdown",
   "id": "222552d2",
   "metadata": {},
   "source": [
    "## OCI Vision\n",
    "\n",
    "Some helpful links\n",
    "https://github.com/oracle/oci-python-sdk/tree/22fd62c8dbbd1aaed6b75754ec1ba8a3c16a4e5a/src/oci/ai_vision\n",
    "\n",
    "https://docs.oracle.com/en-us/iaas/Content/vision/using/home.htm\n",
    "\n",
    "if you have errors running sample code reach out for help in #igiu-ai-learning\n",
    "\n",
    "Other questions #igiu-innovation-lab or #oci_ai_vision_support\n"
   ]
  },
  {
   "cell_type": "markdown",
   "id": "78a46d5e",
   "metadata": {},
   "source": [
    "## Import Libraries"
   ]
  },
  {
   "cell_type": "code",
   "execution_count": 1,
   "id": "12753a55",
   "metadata": {},
   "outputs": [],
   "source": [
    "import oci\n",
    "import io\n",
    "from oci.object_storage import ObjectStorageClient\n",
    "import json,os\n"
   ]
  },
  {
   "cell_type": "markdown",
   "id": "52f561b1",
   "metadata": {},
   "source": [
    "## Set input variables"
   ]
  },
  {
   "cell_type": "code",
   "execution_count": 2,
   "id": "243e9495",
   "metadata": {},
   "outputs": [],
   "source": [
    "#####\n",
    "#make sure your sandbox.json file is setup for your environment. You might have to specify the full path depending on  your `cwd` \n",
    "# you can also try making your cwd ofr jupyter match your workspace python code: \n",
    "# vscopde menu -> Settings > Extensions > Jupyter > Notebook File Root\n",
    "# change from ${fileDirname} to ${workspaceFolder}\n",
    "#####\n",
    "\n",
    "#SANDBOX_CONFIG_FILE = \"~/work/code/python/workshop/sandbox.json\"\n",
    "SANDBOX_CONFIG_FILE = \"sandbox.json\"\n",
    "\n",
    "FILE_TO_ANALYZE = \"./vision/reciept.png\""
   ]
  },
  {
   "cell_type": "markdown",
   "id": "9c722709",
   "metadata": {},
   "source": [
    "## Read the  config file\n"
   ]
  },
  {
   "cell_type": "code",
   "execution_count": 3,
   "id": "d5ab8f98",
   "metadata": {},
   "outputs": [],
   "source": [
    "scfg = None\n",
    "# read the sandbox config \n",
    "with open(os.path.expanduser(SANDBOX_CONFIG_FILE), 'r') as f:\n",
    "                scfg=  json.load(f)\n",
    "oci_cfg = oci.config.from_file(os.path.expanduser(scfg[\"oci\"][\"configFile\"]),scfg[\"oci\"][\"profile\"])\n",
    "bucket_cfg = scfg[\"bucket\"]\n",
    "compartmentId =scfg[\"oci\"][\"compartment\"] \n"
   ]
  },
  {
   "cell_type": "markdown",
   "id": "257d686e",
   "metadata": {},
   "source": [
    "## Upload file\n",
    "\n",
    "This is an optional step. If the file is already uploaded, no need to upload it again."
   ]
  },
  {
   "cell_type": "code",
   "execution_count": null,
   "id": "61ca8a7c",
   "metadata": {},
   "outputs": [],
   "source": [
    "object_storage_client = ObjectStorageClient(oci_cfg)\n",
    "print(f\"Uploading file {FILE_TO_ANALYZE} ...\")\n",
    "object_storage_client.put_object(bucket_cfg[\"namespace\"], \n",
    "                                bucket_cfg[\"bucketName\"], \n",
    "                                f\"{bucket_cfg['prefix']}/{os.path.basename(FILE_TO_ANALYZE)}\", \n",
    "                                io.open(FILE_TO_ANALYZE,'rb'))\n",
    "print(\"Upload completed !\")"
   ]
  },
  {
   "cell_type": "markdown",
   "id": "3659a889",
   "metadata": {},
   "source": [
    "## Create AI service vision client"
   ]
  },
  {
   "cell_type": "code",
   "execution_count": null,
   "id": "24901984",
   "metadata": {},
   "outputs": [],
   "source": [
    "vision_client = oci.ai_vision.AIServiceVisionClient(config=oci_cfg)"
   ]
  },
  {
   "cell_type": "markdown",
   "id": "0a177284",
   "metadata": {},
   "source": [
    "## Setup input feature for Image analysis \n",
    "You can specify the features you want to call. In the below code we are calling all the feature. comment out the features based on your input image. "
   ]
  },
  {
   "cell_type": "code",
   "execution_count": 7,
   "id": "983ccf8a",
   "metadata": {},
   "outputs": [],
   "source": [
    "features = [ \n",
    "            oci.ai_vision.models.ImageClassificationFeature(),\n",
    "            oci.ai_vision.models.ImageObjectDetectionFeature(),\n",
    "            oci.ai_vision.models.ImageTextDetectionFeature(),\n",
    "            oci.ai_vision.models.FaceDetectionFeature()\n",
    "           ]"
   ]
  },
  {
   "cell_type": "markdown",
   "id": "da59ec19",
   "metadata": {},
   "source": [
    "## Create Image Analysis details"
   ]
  },
  {
   "cell_type": "code",
   "execution_count": 8,
   "id": "52e27e99",
   "metadata": {},
   "outputs": [],
   "source": [
    "image = oci.ai_vision.models.ObjectStorageImageDetails(\n",
    "                source = \"OBJECT_STORAGE\",\n",
    "                namespace_name =  bucket_cfg[\"namespace\"]  ,\n",
    "                bucket_name=bucket_cfg[\"bucketName\"]  ,\n",
    "                object_name=f\"{bucket_cfg['prefix']}/{os.path.basename(FILE_TO_ANALYZE)}\"\n",
    ")\n",
    "\n",
    "\n",
    "details = oci.ai_vision.models.AnalyzeImageDetails(\n",
    "        features = features,\n",
    "        image = image,\n",
    "        compartment_id=compartmentId\n",
    "    )"
   ]
  },
  {
   "cell_type": "markdown",
   "id": "d6f153e0",
   "metadata": {},
   "source": [
    "## Analysize the image  \n"
   ]
  },
  {
   "cell_type": "code",
   "execution_count": null,
   "id": "80a695df",
   "metadata": {},
   "outputs": [],
   "source": [
    "response = vision_client.analyze_image (details)\n",
    "\n",
    "print(response.data)"
   ]
  },
  {
   "cell_type": "markdown",
   "id": "3dfe12b9",
   "metadata": {},
   "source": []
  }
 ],
 "metadata": {
  "kernelspec": {
   "display_name": "base",
   "language": "python",
   "name": "python3"
  },
  "language_info": {
   "codemirror_mode": {
    "name": "ipython",
    "version": 3
   },
   "file_extension": ".py",
   "mimetype": "text/x-python",
   "name": "python",
   "nbconvert_exporter": "python",
   "pygments_lexer": "ipython3",
   "version": "3.11.5"
  }
 },
 "nbformat": 4,
 "nbformat_minor": 5
}
