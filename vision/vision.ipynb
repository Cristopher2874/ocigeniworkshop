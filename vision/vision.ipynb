{
 "cells": [
  {
   "cell_type": "markdown",
   "id": "222552d2",
   "metadata": {},
   "source": [
    "## OCI Vision\n",
    "\n",
    "https://github.com/oracle/oci-python-sdk/tree/22fd62c8dbbd1aaed6b75754ec1ba8a3c16a4e5a/src/oci/ai_vision\n",
    "https://docs.oracle.com/en-us/iaas/Content/vision/using/home.htm\n"
   ]
  },
  {
   "cell_type": "markdown",
   "id": "78a46d5e",
   "metadata": {},
   "source": [
    "## Import Libraries"
   ]
  },
  {
   "cell_type": "code",
   "execution_count": 2,
   "id": "12753a55",
   "metadata": {},
   "outputs": [],
   "source": [
    "import oci\n",
    "import io\n",
    "import uuid\n",
    "from oci.object_storage import ObjectStorageClient"
   ]
  },
  {
   "cell_type": "markdown",
   "id": "52f561b1",
   "metadata": {},
   "source": [
    "## Set input variables"
   ]
  },
  {
   "cell_type": "code",
   "execution_count": 3,
   "id": "243e9495",
   "metadata": {},
   "outputs": [],
   "source": [
    "# change per your environment based on how your oci client is set up\n",
    "CONFIG_PROFILE = \"AISANDBOX\" \n",
    "config = oci.config.from_file('~/.oci/config', CONFIG_PROFILE)\n",
    "\n",
    "#oci of the sandboc compartment you are assigned to \n",
    "COMPARTMENT_ID= \"ocid1.compartment.oc1..aaaaaaaaxj6fuodcmai6n6z5yyqif6a36ewfmmovn42red37ml3wxlehjmga\" \n",
    "\n",
    "# change per the environment \n",
    "FILE_PATH = \"reciept.png\"  # this is the path of the local file that you wish to analyse\n",
    "NAMESPACE = \"axaemuxiyife\"\n",
    "BUCKET_NAME = \"workshopbucket\"\n",
    "PREFIX = \"AAGARWA\" # is the folder inside the bucket where the filw will be uploded to. change to your oracle id \n",
    "FILE_NAME =\"reciept.png\"   # this is teh name given to file once uploaded to object bucket "
   ]
  },
  {
   "cell_type": "markdown",
   "id": "9c722709",
   "metadata": {},
   "source": [
    "## Load OCI config\n",
    " location of your oci config where where you set up your section named by CONFIG_PROFILE"
   ]
  },
  {
   "cell_type": "code",
   "execution_count": 4,
   "id": "d5ab8f98",
   "metadata": {},
   "outputs": [],
   "source": [
    "config = oci.config.from_file('~/.oci/config', profile_name=CONFIG_PROFILE)"
   ]
  },
  {
   "cell_type": "markdown",
   "id": "257d686e",
   "metadata": {},
   "source": [
    "## [Optional] Upload file\n",
    "\n",
    "Your can load your file programatically or manually using the console.  Use the PHX region. "
   ]
  },
  {
   "cell_type": "code",
   "execution_count": null,
   "id": "61ca8a7c",
   "metadata": {},
   "outputs": [],
   "source": [
    "object_storage_client = ObjectStorageClient(config)\n",
    "print(f\"Uploading file {FILE_PATH} ...\")\n",
    "object_storage_client.put_object(NAMESPACE, BUCKET_NAME, FILE_NAME, io.open(FILE_PATH,'rb'))\n",
    "print(\"Upload completed !\")"
   ]
  },
  {
   "cell_type": "markdown",
   "id": "3659a889",
   "metadata": {},
   "source": [
    "## Create AI service vision client"
   ]
  },
  {
   "cell_type": "code",
   "execution_count": 5,
   "id": "24901984",
   "metadata": {},
   "outputs": [],
   "source": [
    "vision_client = oci.ai_vision.AIServiceVisionClient(config=config)"
   ]
  },
  {
   "cell_type": "markdown",
   "id": "0a177284",
   "metadata": {},
   "source": [
    "## Setup input feature for Image analysis \n",
    "You can specify the features you want to call. In the below code we are calling all the feature. comment out the features based on your input image. "
   ]
  },
  {
   "cell_type": "code",
   "execution_count": 6,
   "id": "983ccf8a",
   "metadata": {},
   "outputs": [],
   "source": [
    "features = [ \n",
    "            oci.ai_vision.models.ImageClassificationFeature(),\n",
    "            oci.ai_vision.models.ImageObjectDetectionFeature(),\n",
    "            oci.ai_vision.models.ImageTextDetectionFeature(),\n",
    "            oci.ai_vision.models.FaceDetectionFeature()\n",
    "           ]"
   ]
  },
  {
   "cell_type": "markdown",
   "id": "da59ec19",
   "metadata": {},
   "source": [
    "## Create Image Analysis details"
   ]
  },
  {
   "cell_type": "code",
   "execution_count": 7,
   "id": "52e27e99",
   "metadata": {},
   "outputs": [],
   "source": [
    "image = oci.ai_vision.models.ObjectStorageImageDetails(\n",
    "                source = \"OBJECT_STORAGE\",\n",
    "                namespace_name = NAMESPACE,\n",
    "                bucket_name=BUCKET_NAME,\n",
    "                object_name=FILE_NAME\n",
    ")\n",
    "\n",
    "\n",
    "details = oci.ai_vision.models.AnalyzeImageDetails(\n",
    "        features = features,\n",
    "        image = image,\n",
    "        compartment_id=COMPARTMENT_ID\n",
    "    )"
   ]
  },
  {
   "cell_type": "markdown",
   "id": "d6f153e0",
   "metadata": {},
   "source": [
    "## Analysize the image  \n"
   ]
  },
  {
   "cell_type": "code",
   "execution_count": null,
   "id": "80a695df",
   "metadata": {},
   "outputs": [],
   "source": [
    "response = vision_client.analyze_image (details)\n",
    "\n",
    "print(response.data)"
   ]
  },
  {
   "cell_type": "markdown",
   "id": "3dfe12b9",
   "metadata": {},
   "source": []
  }
 ],
 "metadata": {
  "kernelspec": {
   "display_name": "base",
   "language": "python",
   "name": "python3"
  },
  "language_info": {
   "codemirror_mode": {
    "name": "ipython",
    "version": 3
   },
   "file_extension": ".py",
   "mimetype": "text/x-python",
   "name": "python",
   "nbconvert_exporter": "python",
   "pygments_lexer": "ipython3",
   "version": "3.11.5"
  }
 },
 "nbformat": 4,
 "nbformat_minor": 5
}
