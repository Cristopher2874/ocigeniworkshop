{
 "cells": [
  {
   "cell_type": "markdown",
   "id": "222552d2",
   "metadata": {},
   "source": [
    "## Document Understanding\n",
    "documentation:  https://docs.oracle.com/en-us/iaas/Content/document-understanding/using/home.htm\n",
    "slack: #document-understanding"
   ]
  },
  {
   "cell_type": "markdown",
   "id": "78a46d5e",
   "metadata": {},
   "source": [
    "## Import Libraries"
   ]
  },
  {
   "cell_type": "code",
   "execution_count": 2,
   "id": "12753a55",
   "metadata": {},
   "outputs": [],
   "source": [
    "import oci\n",
    "import io\n",
    "import uuid\n",
    "import sys\n",
    "from oci.object_storage import ObjectStorageClient"
   ]
  },
  {
   "cell_type": "markdown",
   "id": "6f80017d",
   "metadata": {},
   "source": [
    "## Set input variables"
   ]
  },
  {
   "cell_type": "code",
   "execution_count": 4,
   "id": "bc2ddd49",
   "metadata": {},
   "outputs": [],
   "source": [
    "CONFIG_PROFILE = \"AIWORKSHOP\" \n",
    "\n",
    "COMPARTMENT_ID= \"ocid1.compartment.oc1..aaaaaaaaxj6fuodcmai6n6z5yyqif6a36ewfmmovn42red37ml3wxlehjmga\" \n",
    "NAMESPACE = \"axaemuxiyife\"\n",
    "BUCKET_NAME = \"workshopbucket\"\n",
    "PREFIX = \"AAGARWA\" # folder in the bucker where your file is uplaoded. change to your oracle id\n",
    "FILE_PATH = \"reciept.png\" # path to the local file to be uploaded for anaysis \n",
    "FILE_NAME =\"reciept.png\"\n"
   ]
  },
  {
   "cell_type": "markdown",
   "id": "5fd4dd46",
   "metadata": {},
   "source": [
    "## Load OCI config\n",
    "Set up authentication for OCI by reading configuration from a file and creating a signer instance for secure API communication. The default configuration file location is ```~/.oci/config```."
   ]
  },
  {
   "cell_type": "code",
   "execution_count": 5,
   "id": "8bafd21c",
   "metadata": {},
   "outputs": [],
   "source": [
    "config = oci.config.from_file('~/.oci/config', profile_name=CONFIG_PROFILE)"
   ]
  },
  {
   "cell_type": "markdown",
   "id": "257d686e",
   "metadata": {},
   "source": [
    "## OPTIONAL : upload file  "
   ]
  },
  {
   "cell_type": "code",
   "execution_count": null,
   "id": "6bdd9ba5",
   "metadata": {},
   "outputs": [],
   "source": [
    "object_storage_client = ObjectStorageClient(config)\n",
    "print(f\"Uploading file {FILE_PATH} ...\")\n",
    "object_storage_client.put_object(NAMESPACE, BUCKET_NAME, FILE_NAME, io.open(FILE_PATH,'rb'))\n",
    "print(\"Upload completed !\")"
   ]
  },
  {
   "cell_type": "markdown",
   "id": "6909ce44",
   "metadata": {},
   "source": [
    "## Create a callback function to print the status"
   ]
  },
  {
   "cell_type": "code",
   "execution_count": 6,
   "id": "865f2ace",
   "metadata": {},
   "outputs": [],
   "source": [
    "def create_processor_job_callback(times_called, response):\n",
    "    print(\"Waiting for processor lifecycle state to go into succeeded state:\", response.data)\n",
    "    "
   ]
  },
  {
   "cell_type": "markdown",
   "id": "3659a889",
   "metadata": {},
   "source": [
    "## Create AI service vision client"
   ]
  },
  {
   "cell_type": "code",
   "execution_count": 7,
   "id": "24901984",
   "metadata": {},
   "outputs": [],
   "source": [
    "dus_client = oci.ai_document.AIServiceDocumentClientCompositeOperations(oci.ai_document.AIServiceDocumentClient(config=config))"
   ]
  },
  {
   "cell_type": "markdown",
   "id": "0a177284",
   "metadata": {},
   "source": [
    "## Setup  features to be analyzed \n",
    "You can specify the features you want to call. In the below code we are calling all the features"
   ]
  },
  {
   "cell_type": "code",
   "execution_count": 8,
   "id": "983ccf8a",
   "metadata": {},
   "outputs": [],
   "source": [
    "features = [ oci.ai_document.models.DocumentClassificationFeature(),\n",
    "            oci.ai_document.models.DocumentLanguageClassificationFeature(), \n",
    "            oci.ai_document.models.DocumentKeyValueExtractionFeature(),\n",
    "            oci.ai_document.models.DocumentTableExtractionFeature(),\n",
    "            oci.ai_document.models.DocumentTextExtractionFeature()\n",
    "            ]"
   ]
  },
  {
   "cell_type": "markdown",
   "id": "72b4c1dd",
   "metadata": {},
   "source": [
    "## Setup input location"
   ]
  },
  {
   "cell_type": "code",
   "execution_count": 9,
   "id": "6953f724",
   "metadata": {},
   "outputs": [],
   "source": [
    "input_location = oci.ai_document.models.ObjectLocation()\n",
    "input_location.namespace_name = NAMESPACE \n",
    "input_location.bucket_name = BUCKET_NAME  \n",
    "input_location.object_name = FILE_NAME"
   ]
  },
  {
   "cell_type": "markdown",
   "id": "ce620f06",
   "metadata": {},
   "source": [
    "## Setup output location"
   ]
  },
  {
   "cell_type": "code",
   "execution_count": 10,
   "id": "c2ee0d57",
   "metadata": {},
   "outputs": [],
   "source": [
    "output_location = oci.ai_document.models.OutputLocation()\n",
    "output_location.namespace_name = NAMESPACE \n",
    "output_location.bucket_name = BUCKET_NAME  \n",
    "output_location.prefix = PREFIX"
   ]
  },
  {
   "cell_type": "markdown",
   "id": "da59ec19",
   "metadata": {},
   "source": [
    "## Create image job "
   ]
  },
  {
   "cell_type": "code",
   "execution_count": 11,
   "id": "52e27e99",
   "metadata": {},
   "outputs": [],
   "source": [
    "display_name = f\"{PREFIX}_job_{uuid.uuid4()}\" \n",
    "job_details = oci.ai_document.models.CreateProcessorJobDetails(\n",
    "                    display_name=display_name,\n",
    "                    compartment_id=COMPARTMENT_ID,\n",
    "                    input_location=oci.ai_document.models.ObjectStorageLocations(object_locations=[input_location]),\n",
    "                    output_location= output_location,\n",
    "                    processor_config=oci.ai_document.models.GeneralProcessorConfig(features=features))"
   ]
  },
  {
   "cell_type": "markdown",
   "id": "d6f153e0",
   "metadata": {},
   "source": [
    "## Job in progress\n",
    "The job progress is tracked till completion with an interval of 5 seconds."
   ]
  },
  {
   "cell_type": "code",
   "execution_count": 12,
   "id": "80a695df",
   "metadata": {},
   "outputs": [],
   "source": [
    "dus_client = oci.ai_document.AIServiceDocumentClientCompositeOperations(oci.ai_document.AIServiceDocumentClient(config=config))\n",
    "\n",
    "features = [ oci.ai_document.models.DocumentClassificationFeature(),\n",
    "            oci.ai_document.models.DocumentLanguageClassificationFeature(), \n",
    "            oci.ai_document.models.DocumentKeyValueExtractionFeature(),\n",
    "            oci.ai_document.models.DocumentTableExtractionFeature(),\n",
    "            oci.ai_document.models.DocumentTextExtractionFeature()\n",
    "            ]\n",
    "processor= dus_client.create_processor_job_and_wait_for_state(\n",
    "    create_processor_job_details=job_details,\n",
    "    wait_for_states=[oci.ai_document.models.ProcessorJob.LIFECYCLE_STATE_SUCCEEDED],\n",
    "    waiter_kwargs={\"wait_callback\": create_processor_job_callback})"
   ]
  },
  {
   "cell_type": "markdown",
   "id": "cba42d96",
   "metadata": {},
   "source": [
    "## Get response json from object storage\n",
    "The output can be found in the output location specified or it can be saved in ```output.json``` file by running the below cell"
   ]
  },
  {
   "cell_type": "code",
   "execution_count": null,
   "id": "6aaa46bc",
   "metadata": {},
   "outputs": [],
   "source": [
    "print(f\"processor call succeeded with status: {[processor.status]} and request_id: {processor.request_id}.\")\n",
    "processor_job: oci.ai_document.models.ProcessorJob = processor.data\n",
    "\n",
    "print(\"Getting result json from the output_location\")\n",
    "object_storage_client = oci.object_storage.ObjectStorageClient(config=config)\n",
    "get_object_response = object_storage_client.get_object(namespace_name=NAMESPACE,\n",
    "                                                       bucket_name=BUCKET_NAME,\n",
    "                                                       object_name=f\"{PREFIX}/{processor_job.id}/{NAMESPACE}_{BUCKET_NAME}/results/{FILE_NAME}.json\")\n",
    "\n",
    "print(str(get_object_response.data.content.decode()))"
   ]
  },
  {
   "cell_type": "markdown",
   "id": "0cb7caad",
   "metadata": {},
   "source": [
    "## Exercise 1 : Dcument Validator\n",
    "\n",
    "1. Create a document in PowerPoint with\n",
    "    * Name\n",
    "    * Address\n",
    "    * Dates \n",
    "    * Create date\n",
    "    * Expiry date\n",
    "    * Signature\n",
    "\n",
    "1. Save it as an image \n",
    "\n",
    "1. Use Document Understanding & LLM service to validate\n",
    "    *  is on correct name\n",
    "    *  is on correct address\n",
    "    *  is not expired\n",
    "    *  has a signature\n",
    "\n"
   ]
  },
  {
   "cell_type": "markdown",
   "id": "3bb79f22",
   "metadata": {},
   "source": [
    "## Exercise 2 : Form Filler\n",
    "\n",
    "1. Upload a receipt \n",
    "1. Fill out a expense report based on the receipt \n",
    "    *  Image an expense resporr as an multi line f string for simplicity\n"
   ]
  }
 ],
 "metadata": {
  "kernelspec": {
   "display_name": "base",
   "language": "python",
   "name": "python3"
  },
  "language_info": {
   "codemirror_mode": {
    "name": "ipython",
    "version": 3
   },
   "file_extension": ".py",
   "mimetype": "text/x-python",
   "name": "python",
   "nbconvert_exporter": "python",
   "pygments_lexer": "ipython3",
   "version": "3.11.5"
  }
 },
 "nbformat": 4,
 "nbformat_minor": 5
}
