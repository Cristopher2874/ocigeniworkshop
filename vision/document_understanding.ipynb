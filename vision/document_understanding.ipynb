{
 "cells": [
  {
   "cell_type": "markdown",
   "id": "222552d2",
   "metadata": {},
   "source": [
    "## Document Understanding\n",
    "documentation:  https://docs.oracle.com/en-us/iaas/Content/document-understanding/using/home.htm\n",
    "\n",
    "slack: #oci_ai_document_service_users or #igiu-innovation-lab if you have quesytion on service\n",
    "\n",
    "issues with code: #igiu-ai-learning"
   ]
  },
  {
   "cell_type": "markdown",
   "id": "78a46d5e",
   "metadata": {},
   "source": [
    "## Import Libraries"
   ]
  },
  {
   "cell_type": "code",
   "execution_count": 1,
   "id": "12753a55",
   "metadata": {},
   "outputs": [],
   "source": [
    "import oci\n",
    "import io\n",
    "from oci.object_storage import ObjectStorageClient\n",
    "import json,os,io"
   ]
  },
  {
   "cell_type": "markdown",
   "id": "6f80017d",
   "metadata": {},
   "source": [
    "## Set input variables"
   ]
  },
  {
   "cell_type": "code",
   "execution_count": 2,
   "id": "bc2ddd49",
   "metadata": {},
   "outputs": [],
   "source": [
    "#####\n",
    "#make sure your sandbox.json file is setup for your environment. You might have to specify the full path depending on  your `cwd` \n",
    "# you can also try making your cwd ofr jupyter match your workspace python code: \n",
    "# vscopde menu -> Settings > Extensions > Jupyter > Notebook File Root\n",
    "# change from ${fileDirname} to ${workspaceFolder}\n",
    "#####\n",
    "\n",
    "#SANDBOX_CONFIG_FILE = \"~/work/code/python/workshop/sandbox.json\"\n",
    "SANDBOX_CONFIG_FILE = \"sandbox.json\"\n",
    "\n",
    "FILE_TO_ANALYZE = \"./vision/dussera-b.jpg\""
   ]
  },
  {
   "cell_type": "markdown",
   "id": "5fd4dd46",
   "metadata": {},
   "source": [
    "# Read the config file"
   ]
  },
  {
   "cell_type": "code",
   "execution_count": 3,
   "id": "8bafd21c",
   "metadata": {},
   "outputs": [],
   "source": [
    "\n",
    "scfg = None\n",
    "# read the sandbox config \n",
    "with open(os.path.expanduser(SANDBOX_CONFIG_FILE), 'r') as f:\n",
    "                scfg=  json.load(f)\n",
    "\n",
    "oci_cfg = oci.config.from_file(os.path.expanduser(scfg[\"oci\"][\"configFile\"]),scfg[\"oci\"][\"profile\"])\n",
    "bucket_cfg = scfg[\"bucket\"]\n",
    "namespace = bucket_cfg[\"namespace\"]\n",
    "bucketName =  bucket_cfg[\"bucketName\"]\n",
    "filename = os.path.basename(FILE_TO_ANALYZE)\n",
    "prefix = bucket_cfg['prefix']\n",
    "compartmentId =scfg[\"oci\"][\"compartment\"] \n",
    "    \n"
   ]
  },
  {
   "cell_type": "markdown",
   "id": "257d686e",
   "metadata": {},
   "source": [
    "## Upload file  \n",
    "\n",
    "This is an optional step. If the file is already uploaded, no need to upload it again."
   ]
  },
  {
   "cell_type": "code",
   "execution_count": null,
   "id": "6bdd9ba5",
   "metadata": {},
   "outputs": [],
   "source": [
    "object_storage_client = ObjectStorageClient(oci_cfg)\n",
    "print(f\"Uploading file {FILE_TO_ANALYZE} ...\")\n",
    "object_storage_client.put_object(bucket_cfg[\"namespace\"], \n",
    "                                bucket_cfg[\"bucketName\"], \n",
    "                                f\"{bucket_cfg['prefix']}/{os.path.basename(FILE_TO_ANALYZE)}\", \n",
    "                                io.open(FILE_TO_ANALYZE,'rb'))\n",
    "print(\"Upload completed !\")"
   ]
  },
  {
   "cell_type": "markdown",
   "id": "6909ce44",
   "metadata": {},
   "source": [
    "## Create a callback function to print the status"
   ]
  },
  {
   "cell_type": "code",
   "execution_count": 5,
   "id": "865f2ace",
   "metadata": {},
   "outputs": [],
   "source": [
    "def create_processor_job_callback(times_called, response):\n",
    "    print(\"Waiting for processor lifecycle state to go into succeeded state:\", response.data)\n",
    "    "
   ]
  },
  {
   "cell_type": "markdown",
   "id": "3659a889",
   "metadata": {},
   "source": [
    "## Create AI service vision client"
   ]
  },
  {
   "cell_type": "code",
   "execution_count": 6,
   "id": "24901984",
   "metadata": {},
   "outputs": [],
   "source": [
    "dus_client = oci.ai_document.AIServiceDocumentClientCompositeOperations(oci.ai_document.AIServiceDocumentClient(config=oci_cfg))"
   ]
  },
  {
   "cell_type": "markdown",
   "id": "0a177284",
   "metadata": {},
   "source": [
    "## Setup  features to be analyzed \n",
    "You can specify the features you want to call. In the below code we are calling all the features"
   ]
  },
  {
   "cell_type": "code",
   "execution_count": 7,
   "id": "983ccf8a",
   "metadata": {},
   "outputs": [],
   "source": [
    "features = [ oci.ai_document.models.DocumentClassificationFeature(),\n",
    "            oci.ai_document.models.DocumentLanguageClassificationFeature(), \n",
    "            oci.ai_document.models.DocumentKeyValueExtractionFeature(),\n",
    "            oci.ai_document.models.DocumentTableExtractionFeature(),\n",
    "            oci.ai_document.models.DocumentTextExtractionFeature()\n",
    "            ]"
   ]
  },
  {
   "cell_type": "markdown",
   "id": "72b4c1dd",
   "metadata": {},
   "source": [
    "## Setup input location"
   ]
  },
  {
   "cell_type": "code",
   "execution_count": 8,
   "id": "6953f724",
   "metadata": {},
   "outputs": [],
   "source": [
    "input_location = oci.ai_document.models.ObjectLocation()\n",
    "input_location.namespace_name = namespace\n",
    "input_location.bucket_name =   bucketName\n",
    "input_location.object_name = f\"{prefix}/{filename}\""
   ]
  },
  {
   "cell_type": "markdown",
   "id": "ce620f06",
   "metadata": {},
   "source": [
    "## Setup output location"
   ]
  },
  {
   "cell_type": "code",
   "execution_count": 9,
   "id": "c2ee0d57",
   "metadata": {},
   "outputs": [],
   "source": [
    "output_location = oci.ai_document.models.OutputLocation()\n",
    "output_location.namespace_name =  namespace\n",
    "output_location.bucket_name =  bucketName\n",
    "output_location.prefix = prefix"
   ]
  },
  {
   "cell_type": "markdown",
   "id": "da59ec19",
   "metadata": {},
   "source": [
    "## Create image job "
   ]
  },
  {
   "cell_type": "code",
   "execution_count": 13,
   "id": "52e27e99",
   "metadata": {},
   "outputs": [],
   "source": [
    "display_name = f\"{prefix}-test\"\n",
    "job_details = oci.ai_document.models.CreateProcessorJobDetails(\n",
    "                                    display_name=display_name,\n",
    "                                    compartment_id=compartmentId,\n",
    "                                    input_location=oci.ai_document.models.ObjectStorageLocations(object_locations=[input_location]),\n",
    "                                    output_location= output_location,\n",
    "                                    processor_config=oci.ai_document.models.GeneralProcessorConfig(features=features)\n",
    "                                    )\n",
    "    "
   ]
  },
  {
   "cell_type": "markdown",
   "id": "d6f153e0",
   "metadata": {},
   "source": [
    "## Job in progress\n",
    "The job progress is tracked till completion with an interval of 5 seconds."
   ]
  },
  {
   "cell_type": "code",
   "execution_count": null,
   "id": "80a695df",
   "metadata": {},
   "outputs": [],
   "source": [
    "processor= dus_client.create_processor_job_and_wait_for_state(\n",
    "    create_processor_job_details=job_details,\n",
    "    wait_for_states=[oci.ai_document.models.ProcessorJob.LIFECYCLE_STATE_SUCCEEDED],\n",
    "    waiter_kwargs={\"wait_callback\": create_processor_job_callback})"
   ]
  },
  {
   "cell_type": "markdown",
   "id": "cba42d96",
   "metadata": {},
   "source": [
    "## Get response json from object storage\n",
    "The output can be found in the output location specified or it can be saved in ```output.json``` file by running the below cell"
   ]
  },
  {
   "cell_type": "code",
   "execution_count": null,
   "id": "6aaa46bc",
   "metadata": {},
   "outputs": [],
   "source": [
    "print(f\"processor call succeeded with status: {[processor.status]} and request_id: {processor.request_id}.\")\n",
    "processor_job: oci.ai_document.models.ProcessorJob = processor.data\n",
    "\n",
    "print(f\"Getting result json from the output_location {processor_job.id}\")\n",
    "\n",
    "object_storage_client = oci.object_storage.ObjectStorageClient(config=oci_cfg)\n",
    "get_object_response = object_storage_client.get_object(namespace_name=namespace,\n",
    "                                                       bucket_name=bucketName,\n",
    "                                                       object_name=f\"{prefix}/{processor_job.id}/{namespace}_{bucketName}/results/{prefix}/{filename}.json\")\n",
    "\n",
    "print(str(get_object_response.data.content.decode()))\n"
   ]
  },
  {
   "cell_type": "markdown",
   "id": "0cb7caad",
   "metadata": {},
   "source": [
    "## Exercise 1 : Dcument Validator\n",
    "\n",
    "1. Create a document in PowerPoint with\n",
    "    * Name\n",
    "    * Address\n",
    "    * Dates \n",
    "    * Create date\n",
    "    * Expiry date\n",
    "    * Signature\n",
    "\n",
    "1. Save it as an image \n",
    "\n",
    "1. Use Document Understanding & LLM service to validate\n",
    "    *  is on correct name\n",
    "    *  is on correct address\n",
    "    *  is not expired\n",
    "    *  has a signature\n",
    "\n"
   ]
  },
  {
   "cell_type": "markdown",
   "id": "3bb79f22",
   "metadata": {},
   "source": [
    "## Exercise 2 : Form Filler\n",
    "\n",
    "1. Upload a receipt \n",
    "1. Fill out a expense report based on the receipt \n",
    "    *  Image an expense resporr as an multi line f string for simplicity\n"
   ]
  }
 ],
 "metadata": {
  "kernelspec": {
   "display_name": "base",
   "language": "python",
   "name": "python3"
  },
  "language_info": {
   "codemirror_mode": {
    "name": "ipython",
    "version": 3
   },
   "file_extension": ".py",
   "mimetype": "text/x-python",
   "name": "python",
   "nbconvert_exporter": "python",
   "pygments_lexer": "ipython3",
   "version": "3.11.5"
  }
 },
 "nbformat": 4,
 "nbformat_minor": 5
}
