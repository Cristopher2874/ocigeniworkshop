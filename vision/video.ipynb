{
 "cells": [
  {
   "cell_type": "markdown",
   "id": "11161e63",
   "metadata": {},
   "source": [
    "# Video service\n",
    "\n",
    "if you have errors running sample code reach out for help in #igiu-ai-learning\n",
    "other questions #igiu-innovation-lab or #video-analysis-beta\n",
    "\n",
    "Note video support is not GA and requires a specific version of oci & video client. reach out to ashish.ag.agarwal@oracle.com"
   ]
  },
  {
   "cell_type": "markdown",
   "id": "78a46d5e",
   "metadata": {},
   "source": [
    "## Import Libraries"
   ]
  },
  {
   "cell_type": "code",
   "execution_count": 1,
   "id": "12753a55",
   "metadata": {},
   "outputs": [],
   "source": [
    "import oci\n",
    "import io,json,os\n",
    "from oci.ai_vision.models import *\n",
    "from oci.object_storage import ObjectStorageClient\n",
    "from time import sleep"
   ]
  },
  {
   "cell_type": "markdown",
   "id": "52f561b1",
   "metadata": {},
   "source": [
    "## Set input variables\n",
    "\n"
   ]
  },
  {
   "cell_type": "code",
   "execution_count": 2,
   "id": "243e9495",
   "metadata": {},
   "outputs": [],
   "source": [
    "#####\n",
    "#make sure your sandbox.json file is setup for your environment. You might have to specify the full path depending on  your `cwd` \n",
    "# you can also try making your cwd ofr jupyter match your workspace python code: \n",
    "# vscopde menu -> Settings > Extensions > Jupyter > Notebook File Root\n",
    "# change from ${fileDirname} to ${workspaceFolder}\n",
    "#####\n",
    "\n",
    "#SANDBOX_CONFIG_FILE = \"~/work/code/python/workshop/sandbox.json\"\n",
    "SANDBOX_CONFIG_FILE = \"sandbox.json\"\n",
    "FILE_TO_ANALYZE = \"./vision/mall.mp4\" #specify the filename of the test video"
   ]
  },
  {
   "cell_type": "markdown",
   "id": "6724fce5",
   "metadata": {},
   "source": [
    "# Read the config file"
   ]
  },
  {
   "cell_type": "code",
   "execution_count": 3,
   "id": "9aad8c68",
   "metadata": {},
   "outputs": [],
   "source": [
    "scfg = None\n",
    "# read the sandbox config \n",
    "with open(os.path.expanduser(SANDBOX_CONFIG_FILE), 'r') as f:\n",
    "                scfg=  json.load(f)\n",
    "\n",
    "oci_cfg = oci.config.from_file(os.path.expanduser(scfg[\"oci\"][\"configFile\"]),scfg[\"oci\"][\"profile\"])\n",
    "bucket_cfg = scfg[\"bucket\"]\n",
    "namespace = bucket_cfg[\"namespace\"]\n",
    "bucketName =  bucket_cfg[\"bucketName\"]\n",
    "filename = os.path.basename(FILE_TO_ANALYZE)\n",
    "prefix = bucket_cfg['prefix']\n",
    "compartmentId =scfg[\"oci\"][\"compartment\"] "
   ]
  },
  {
   "cell_type": "markdown",
   "id": "bb272cbc",
   "metadata": {},
   "source": [
    "## Upload file  \n",
    "\n",
    "This is an optional step. If the file is already uploaded, no need to upload it again."
   ]
  },
  {
   "cell_type": "code",
   "execution_count": null,
   "id": "06133038",
   "metadata": {},
   "outputs": [],
   "source": [
    "object_storage_client = ObjectStorageClient(oci_cfg)\n",
    "print(f\"Uploading file {FILE_TO_ANALYZE} ...\")\n",
    "object_storage_client.put_object(bucket_cfg[\"namespace\"], \n",
    "                                bucket_cfg[\"bucketName\"], \n",
    "                                f\"{bucket_cfg['prefix']}/{os.path.basename(FILE_TO_ANALYZE)}\", \n",
    "                                io.open(FILE_TO_ANALYZE,'rb'))\n",
    "print(\"Upload completed !\")"
   ]
  },
  {
   "cell_type": "markdown",
   "id": "3659a889",
   "metadata": {},
   "source": [
    "## Create AI service vision client"
   ]
  },
  {
   "cell_type": "code",
   "execution_count": 5,
   "id": "24901984",
   "metadata": {},
   "outputs": [],
   "source": [
    "ai_service_vision_client = oci.ai_vision.AIServiceVisionClient(config=oci_cfg)"
   ]
  },
  {
   "cell_type": "markdown",
   "id": "0a177284",
   "metadata": {},
   "source": [
    "## Setup input feature for Offline video features\n",
    "You can specify the features you want to call. In the below code we are calling all the features"
   ]
  },
  {
   "cell_type": "code",
   "execution_count": 6,
   "id": "983ccf8a",
   "metadata": {},
   "outputs": [],
   "source": [
    "video_object_detection_feature = VideoObjectDetectionFeature()\n",
    "video_face_detection_feature = VideoFaceDetectionFeature()\n",
    "video_label_detection_feature = VideoLabelDetectionFeature()\n",
    "video_text_detection_feature = VideoTextDetectionFeature()\n",
    "features = [video_text_detection_feature, video_face_detection_feature, video_label_detection_feature, video_object_detection_feature]"
   ]
  },
  {
   "cell_type": "markdown",
   "id": "72b4c1dd",
   "metadata": {},
   "source": [
    "## Setup input location\n",
    "\n",
    "This example assumes that your file ot analyze is already in teh bucket. You can either load it manually to the bucket using the oci console from your browser, or do it programatically. see vision notebook section on upload. "
   ]
  },
  {
   "cell_type": "code",
   "execution_count": 7,
   "id": "6953f724",
   "metadata": {},
   "outputs": [],
   "source": [
    "object_location_1 = ObjectLocation()\n",
    "object_location_1.namespace_name = namespace\n",
    "object_location_1.bucket_name = bucketName\n",
    "object_location_1.object_name =  f\"{prefix}/{filename}\"\n",
    "object_locations = [object_location_1]\n",
    "input_location = ObjectListInlineInputLocation()\n",
    "input_location.object_locations = object_locations"
   ]
  },
  {
   "cell_type": "markdown",
   "id": "ce620f06",
   "metadata": {},
   "source": [
    "## Setup output location"
   ]
  },
  {
   "cell_type": "code",
   "execution_count": 8,
   "id": "c2ee0d57",
   "metadata": {},
   "outputs": [],
   "source": [
    "output_location = OutputLocation()\n",
    "output_location.namespace_name = namespace\n",
    "output_location.bucket_name = bucketName\n",
    "output_location.prefix = prefix"
   ]
  },
  {
   "cell_type": "markdown",
   "id": "da59ec19",
   "metadata": {},
   "source": [
    "## Create video job"
   ]
  },
  {
   "cell_type": "code",
   "execution_count": null,
   "id": "52e27e99",
   "metadata": {},
   "outputs": [],
   "source": [
    "create_video_job_details = CreateVideoJobDetails()\n",
    "create_video_job_details.features = features\n",
    "create_video_job_details.compartment_id = compartmentId\n",
    "create_video_job_details.output_location = output_location\n",
    "create_video_job_details.input_location = input_location\n",
    "\n",
    "res = ai_service_vision_client.create_video_job(create_video_job_details=create_video_job_details)\n",
    "\n",
    "job_id = res.data.id\n",
    "print(f\"Job {job_id} is in {res.data.lifecycle_state} state.\")\n"
   ]
  },
  {
   "cell_type": "markdown",
   "id": "d6f153e0",
   "metadata": {},
   "source": [
    "## Job in progress\n",
    "The job progress is tracked till completion with an interval of 5 seconds."
   ]
  },
  {
   "cell_type": "code",
   "execution_count": null,
   "id": "80a695df",
   "metadata": {},
   "outputs": [],
   "source": [
    "seconds = 0\n",
    "while res.data.lifecycle_state == \"IN_PROGRESS\" or res.data.lifecycle_state == \"ACCEPTED\":\n",
    "    print(f\"Job {job_id} is IN_PROGRESS for {str(seconds)} seconds, progress: {res.data.percent_complete}\")\n",
    "    sleep(5)\n",
    "    seconds += 5\n",
    "    res = ai_service_vision_client.get_video_job(video_job_id=job_id)\n",
    "    \n",
    "print(f\"Job {job_id} is in {res.data.lifecycle_state} state.\")"
   ]
  },
  {
   "cell_type": "markdown",
   "id": "cba42d96",
   "metadata": {},
   "source": [
    "## Get response json from object storage\n",
    "The output can be found in the output location specified or it can be saved in ```output.json``` file by running the below cell"
   ]
  },
  {
   "cell_type": "code",
   "execution_count": null,
   "id": "6aaa46bc",
   "metadata": {},
   "outputs": [],
   "source": [
    "object_storage_client = oci.object_storage.ObjectStorageClient(oci_cfg)\n",
    "object_name = f\"{prefix}/{job_id}/{prefix}/{filename}.json\"\n",
    "\n",
    "video_response = object_storage_client.get_object(namespace, bucketName, object_name)\n",
    "\n",
    "\n",
    "print (video_response.data.text)"
   ]
  }
 ],
 "metadata": {
  "kernelspec": {
   "display_name": "oci-video",
   "language": "python",
   "name": "python3"
  },
  "language_info": {
   "codemirror_mode": {
    "name": "ipython",
    "version": 3
   },
   "file_extension": ".py",
   "mimetype": "text/x-python",
   "name": "python",
   "nbconvert_exporter": "python",
   "pygments_lexer": "ipython3",
   "version": "3.11.5"
  }
 },
 "nbformat": 4,
 "nbformat_minor": 5
}
