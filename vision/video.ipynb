{
 "cells": [
  {
   "cell_type": "markdown",
   "id": "78a46d5e",
   "metadata": {},
   "source": [
    "## Import Libraries"
   ]
  },
  {
   "cell_type": "code",
   "execution_count": null,
   "id": "12753a55",
   "metadata": {},
   "outputs": [],
   "source": [
    "import oci\n",
    "from oci.ai_vision.models import *\n",
    "from time import slee"
   ]
  },
  {
   "cell_type": "markdown",
   "id": "5fd4dd46",
   "metadata": {},
   "source": [
    "## Load OCI config\n",
    "location of your oci config where where you set up your section named by CONFIG_PROFILE"
   ]
  },
  {
   "cell_type": "code",
   "execution_count": null,
   "id": "8bafd21c",
   "metadata": {},
   "outputs": [],
   "source": [
    "config = oci.config.from_file('~/.oci/config', profile_name='AISANDBOX')"
   ]
  },
  {
   "cell_type": "markdown",
   "id": "52f561b1",
   "metadata": {},
   "source": [
    "## Set input variables\n",
    "\n",
    "modify per your needs"
   ]
  },
  {
   "cell_type": "code",
   "execution_count": 3,
   "id": "243e9495",
   "metadata": {},
   "outputs": [],
   "source": [
    "ENDPOINT = 'https://vision.aiservice.us-ashburn-1.oci.oraclecloud.com' #service endpoint\n",
    "COMPARTMENT_ID= \"ocid1.compartment.oc1..aaaaaaaaxj6fuodcmai6n6z5yyqif6a36ewfmmovn42red37ml3wxlehjmga\" \n",
    "NAMESPACE = \"axaemuxiyife\" # specify the namespace where the test file is present\n",
    "BUCKET = \"workshopbucket\" # specify the bucket name where the test file is present\n",
    "FILENAME = \"mall.mp4\" #specify the filename of the test video"
   ]
  },
  {
   "cell_type": "markdown",
   "id": "257d686e",
   "metadata": {},
   "source": [
    "## Set output variables\n",
    "\n",
    "modify per your needs"
   ]
  },
  {
   "cell_type": "code",
   "execution_count": 4,
   "id": "6bdd9ba5",
   "metadata": {},
   "outputs": [],
   "source": [
    "OUTPUT_NAMESPACE = \"axaemuxiyife\" # specify the namespace where the output has to be stored\n",
    "OUTPUT_BUCKET = \"workshopbucket\" # specify the bucket name where the output has to be stored\n",
    "OUTPUT_PREFIX = \"AAGARWA\" # specify the prefix where the output has to be stored. ichange to your oracle id"
   ]
  },
  {
   "cell_type": "markdown",
   "id": "3659a889",
   "metadata": {},
   "source": [
    "## Create AI service vision client"
   ]
  },
  {
   "cell_type": "code",
   "execution_count": 10,
   "id": "24901984",
   "metadata": {},
   "outputs": [],
   "source": [
    "ai_service_vision_client = oci.ai_vision.AIServiceVisionClient(config=config)"
   ]
  },
  {
   "cell_type": "markdown",
   "id": "0a177284",
   "metadata": {},
   "source": [
    "## Setup input feature for Offline video features\n",
    "You can specify the features you want to call. In the below code we are calling all the features"
   ]
  },
  {
   "cell_type": "code",
   "execution_count": 6,
   "id": "983ccf8a",
   "metadata": {},
   "outputs": [],
   "source": [
    "video_object_detection_feature = VideoObjectDetectionFeature()\n",
    "video_face_detection_feature = VideoFaceDetectionFeature()\n",
    "video_label_detection_feature = VideoLabelDetectionFeature()\n",
    "video_text_detection_feature = VideoTextDetectionFeature()\n",
    "features = [video_text_detection_feature, video_face_detection_feature, video_label_detection_feature, video_object_detection_feature]"
   ]
  },
  {
   "cell_type": "markdown",
   "id": "72b4c1dd",
   "metadata": {},
   "source": [
    "## Setup input location\n",
    "\n",
    "This example assumes that your file ot analyze is already in teh bucket. You can either load it manually to the bucket using the oci console from your browser, or do it programatically. see vision notebook section on upload. "
   ]
  },
  {
   "cell_type": "code",
   "execution_count": 7,
   "id": "6953f724",
   "metadata": {},
   "outputs": [],
   "source": [
    "object_location_1 = ObjectLocation()\n",
    "object_location_1.namespace_name = NAMESPACE\n",
    "object_location_1.bucket_name = BUCKET\n",
    "object_location_1.object_name = FILENAME\n",
    "object_locations = [object_location_1]\n",
    "input_location = ObjectListInlineInputLocation()\n",
    "input_location.object_locations = object_locations"
   ]
  },
  {
   "cell_type": "markdown",
   "id": "ce620f06",
   "metadata": {},
   "source": [
    "## Setup output location"
   ]
  },
  {
   "cell_type": "code",
   "execution_count": 8,
   "id": "c2ee0d57",
   "metadata": {},
   "outputs": [],
   "source": [
    "output_location = OutputLocation()\n",
    "output_location.namespace_name = OUTPUT_NAMESPACE\n",
    "output_location.bucket_name = OUTPUT_BUCKET\n",
    "output_location.prefix = OUTPUT_PREFIX"
   ]
  },
  {
   "cell_type": "markdown",
   "id": "da59ec19",
   "metadata": {},
   "source": [
    "## Create video job"
   ]
  },
  {
   "cell_type": "code",
   "execution_count": null,
   "id": "52e27e99",
   "metadata": {},
   "outputs": [],
   "source": [
    "create_video_job_details = CreateVideoJobDetails()\n",
    "create_video_job_details.features = features\n",
    "create_video_job_details.compartment_id = COMPARTMENT_ID\n",
    "create_video_job_details.output_location = output_location\n",
    "create_video_job_details.input_location = input_location\n",
    "\n",
    "res = ai_service_vision_client.create_video_job(create_video_job_details=create_video_job_details)\n",
    "\n",
    "job_id = res.data.id\n",
    "print(f\"Job {job_id} is in {res.data.lifecycle_state} state.\")\n"
   ]
  },
  {
   "cell_type": "markdown",
   "id": "d6f153e0",
   "metadata": {},
   "source": [
    "## Job in progress\n",
    "The job progress is tracked till completion with an interval of 5 seconds."
   ]
  },
  {
   "cell_type": "code",
   "execution_count": null,
   "id": "80a695df",
   "metadata": {},
   "outputs": [],
   "source": [
    "seconds = 0\n",
    "while res.data.lifecycle_state == \"IN_PROGRESS\" or res.data.lifecycle_state == \"ACCEPTED\":\n",
    "    print(f\"Job {job_id} is IN_PROGRESS for {str(seconds)} seconds, progress: {res.data.percent_complete}\")\n",
    "    sleep(5)\n",
    "    seconds += 5\n",
    "    res = ai_service_vision_client.get_video_job(video_job_id=job_id)\n",
    "    \n",
    "print(f\"Job {job_id} is in {res.data.lifecycle_state} state.\")"
   ]
  },
  {
   "cell_type": "markdown",
   "id": "cba42d96",
   "metadata": {},
   "source": [
    "## Get response json from object storage\n",
    "The output can be found in the output location specified or it can be saved in ```output.json``` file by running the below cell"
   ]
  },
  {
   "cell_type": "code",
   "execution_count": null,
   "id": "6aaa46bc",
   "metadata": {},
   "outputs": [],
   "source": [
    "object_storage_client = oci.object_storage.ObjectStorageClient(config)\n",
    "object_name = f\"{OUTPUT_PREFIX}/{job_id}/{object_location_1.object_name}.json\"\n",
    "\n",
    "video_response = object_storage_client.get_object(OUTPUT_NAMESPACE, OUTPUT_BUCKET, object_name)\n",
    "\n",
    "file = open('output.json', 'w')\n",
    "file.write(video_response.data.text)"
   ]
  }
 ],
 "metadata": {
  "kernelspec": {
   "display_name": "oci-video",
   "language": "python",
   "name": "python3"
  },
  "language_info": {
   "codemirror_mode": {
    "name": "ipython",
    "version": 3
   },
   "file_extension": ".py",
   "mimetype": "text/x-python",
   "name": "python",
   "nbconvert_exporter": "python",
   "pygments_lexer": "ipython3",
   "version": "3.11.5"
  }
 },
 "nbformat": 4,
 "nbformat_minor": 5
}
