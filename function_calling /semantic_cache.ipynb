{
 "cells": [
  {
   "cell_type": "markdown",
   "metadata": {},
   "source": [
    "# DAY 3 Function Calling \n",
    "\n",
    "Thi is an example of Semantic Cache.  Semantic cache refrs to the idea of using semantic search to match on the key and return the value. This can be used by Tools like Rag to cache teh answers and return teh cached answer, fro all variations of the sqm questions\n",
    "\n",
    "steps: \n",
    "\n",
    "1. Setup :  Embed the questions and store the Q&A pairs\n",
    "2. R-etrival :  embed the question asked  & do similarity search\n",
    "3. A -ugmnet :  optionally rerank & add to response\n",
    "4. G - enerate : ask LLm to answer question based on the retrieved chunks\n",
    "\n",
    "Questions use #generative-ai-users  or #igiu-innovation-lab slack channel\n"
   ]
  },
  {
   "cell_type": "markdown",
   "metadata": {},
   "source": [
    "### Set up variables"
   ]
  },
  {
   "cell_type": "code",
   "execution_count": 2,
   "metadata": {},
   "outputs": [
    {
     "name": "stdout",
     "output_type": "stream",
     "text": [
      " change the table names to your name & uncomment \n"
     ]
    }
   ],
   "source": [
    "from oci.generative_ai_inference import GenerativeAiInferenceClient\n",
    "from oci.generative_ai_inference.models import OnDemandServingMode, EmbedTextDetails,CohereChatRequest, ChatDetails\n",
    "import oracledb\n",
    "import array\n",
    "import oci\n",
    "import sys\n",
    "import os\n",
    "\n",
    "#change the compartment to your compartment \n",
    "compartmentId= \"ocid1.compartment.oc1..aaaaaaaaxj6fuodcmai6n6z5yyqif6a36ewfmmovn42red37ml3wxlehjmga\" \n",
    "\n",
    "CONFIG_PROFILE = \"AISANDBOX\"\n",
    "endpointId= \"https://inference.generativeai.us-chicago-1.oci.oraclecloud.com\"\n",
    "\n",
    "print (\" change the table names to your name & uncomment \")\n",
    "#sys.exit(1)\n",
    "\n",
    "# modify based on the database in your compartmnet ( check in phx region)\n",
    "DB_CONFIG_DIR = os.path.expanduser(\"~/.workshop/inno_wallet\")\n",
    "DB_USER = \"ONNOVATE\"     # get your userid\n",
    "DB_PASS = \"test\"  # update the password for your user\n",
    "DB_DSN = \"innovationlab_medium\"\n",
    "DB_WALLET_LOC=os.path.expanduser(\"~/.workshop/inno_wallet\")\n",
    "DB_WALLET_PASS=\"wallet_pass\" # change for your wallet  \n"
   ]
  },
  {
   "cell_type": "code",
   "execution_count": null,
   "metadata": {},
   "outputs": [],
   "source": []
  },
  {
   "cell_type": "markdown",
   "metadata": {},
   "source": [
    "## chunks we we want to query against "
   ]
  },
  {
   "cell_type": "code",
   "execution_count": 4,
   "metadata": {},
   "outputs": [],
   "source": [
    "\n",
    "# The input text to vectorize\n",
    "qa_pairs = [\n",
    "    {\n",
    "        \"question\": \"What is the largest continent by land area?\",\n",
    "        \"answer\": \"Asia is the largest continent, covering about 30% of Earth's land area. It is home to diverse cultures, languages, and ecosystems.\"\n",
    "    },\n",
    "    {\n",
    "        \"question\": \"Which country has the longest coastline in the world?\",\n",
    "        \"answer\": \"Canada has the longest coastline, stretching over 202,080 kilometers. Its vast coastlines are along the Atlantic, Pacific, and Arctic Oceans.\"\n",
    "    },\n",
    "    {\n",
    "        \"question\": \"What river is the longest in the world?\",\n",
    "        \"answer\": \"The Nile River is traditionally considered the longest river, flowing over 6,650 kilometers through northeastern Africa. It passes through countries like Egypt and Sudan.\"\n",
    "    },\n",
    "    {\n",
    "        \"question\": \"Which desert is the largest hot desert in the world?\",\n",
    "        \"answer\": \"The Sahara Desert is the largest hot desert, covering approximately 9.2 million square kilometers. It spans across North Africa from the Atlantic Ocean to the Red Sea.\"\n",
    "    },\n",
    "    {\n",
    "        \"question\": \"What is the smallest country in the world by land area?\",\n",
    "        \"answer\": \"Vatican City is the smallest country, with an area of just 44 hectares (110 acres). It serves as the spiritual and administrative center of the Roman Catholic Church.\"\n",
    "    },\n",
    "    {\n",
    "        \"question\": \"Which mountain is the highest in the world above sea level?\",\n",
    "        \"answer\": \"Mount Everest is the highest mountain above sea level, standing at 8,848 meters (29,029 feet). It is part of the Himalayas and located on the border between Nepal and China.\"\n",
    "    },\n",
    "    {\n",
    "        \"question\": \"What ocean is the deepest in the world?\",\n",
    "        \"answer\": \"The Pacific Ocean is the deepest ocean, with an average depth of about 4,280 meters. The Mariana Trench within it reaches depths of over 10,900 meters.\"\n",
    "    },\n",
    "    {\n",
    "        \"question\": \"Which two continents are entirely located in the Southern Hemisphere?\",\n",
    "        \"answer\": \"Australia and Antarctica are entirely located in the Southern Hemisphere. Both continents have unique ecosystems and climates.\"\n",
    "    },\n",
    "    {\n",
    "        \"question\": \"What country has the most time zones?\",\n",
    "        \"answer\": \"France has the most time zones when including its overseas territories. In total, it spans 12 different time zones across various regions worldwide.\"\n",
    "    },\n",
    "    {\n",
    "        \"question\": \"Which lake is considered the world's largest by surface area?\",\n",
    "        \"answer\": \"Lake Superior, part of North America's Great Lakes, is often considered the largest freshwater lake by surface area. It covers approximately 82,100 square kilometers.\"\n",
    "    }\n",
    "]\n"
   ]
  },
  {
   "cell_type": "markdown",
   "metadata": {},
   "source": [
    "## open database connection"
   ]
  },
  {
   "cell_type": "code",
   "execution_count": 5,
   "metadata": {},
   "outputs": [],
   "source": [
    "db = oracledb.connect( config_dir= DB_CONFIG_DIR, user= DB_USER, password=DB_PASS, dsn=DB_DSN,wallet_location=DB_WALLET_LOC, wallet_password=DB_WALLET_PASS)\n",
    "cursor = db.cursor()\n"
   ]
  },
  {
   "cell_type": "markdown",
   "metadata": {},
   "source": [
    "## create tables "
   ]
  },
  {
   "cell_type": "code",
   "execution_count": 6,
   "metadata": {},
   "outputs": [],
   "source": [
    "sql = [\n",
    "\t\"\"\"drop table if exists asagarwa_semantic_cache purge\"\"\"\t,\n",
    " \n",
    "\t\"\"\"\n",
    "\t\tcreate table asagarwa_semantic_cache (\n",
    "  \t\t\tid number,\n",
    "\t\tquestion varchar2(4000),\n",
    "\t\tanswer varchar2(4000),\n",
    "\t\tembedding vector,\n",
    "\t\tprimary key (id)\n",
    "\t)\"\"\"\n",
    "]\n",
    "\n",
    "for s in sql : \n",
    "\tcursor.execute(s)"
   ]
  },
  {
   "cell_type": "markdown",
   "metadata": {},
   "source": [
    "### load the profile"
   ]
  },
  {
   "cell_type": "code",
   "execution_count": 7,
   "metadata": {},
   "outputs": [],
   "source": [
    "# oci key enabled for api access\n",
    "config = oci.config.from_file('~/.oci/workshop', CONFIG_PROFILE)"
   ]
  },
  {
   "cell_type": "markdown",
   "metadata": {},
   "source": [
    "### set up LLM client "
   ]
  },
  {
   "cell_type": "code",
   "execution_count": 8,
   "metadata": {},
   "outputs": [],
   "source": [
    "\n",
    "# create a llm client \n",
    "llm_client = GenerativeAiInferenceClient(\n",
    "\t\t\t\tconfig=config, \n",
    "\t\t\t\tservice_endpoint=endpointId, \n",
    "\t\t\t\tretry_strategy=oci.retry.NoneRetryStrategy(),\n",
    "\t\t\t\ttimeout=(10,240))\t"
   ]
  },
  {
   "cell_type": "markdown",
   "metadata": {},
   "source": [
    "## Create embeddings"
   ]
  },
  {
   "cell_type": "code",
   "execution_count": 9,
   "metadata": {},
   "outputs": [],
   "source": [
    "embed_text_detail = EmbedTextDetails()\n",
    "embed_text_detail.serving_mode = OnDemandServingMode(model_id=\"cohere.embed-english-v3.0\")\n",
    "embed_text_detail.truncate = embed_text_detail.TRUNCATE_END\n",
    "embed_text_detail.input_type = embed_text_detail.INPUT_TYPE_SEARCH_DOCUMENT\n",
    "embed_text_detail.compartment_id = compartmentId\n",
    "embed_text_detail.inputs = [pair[\"question\"] for pair in qa_pairs] \n",
    "\n",
    "response = llm_client.embed_text(embed_text_detail)\n",
    "embeddings = response.data.embeddings\n"
   ]
  },
  {
   "cell_type": "markdown",
   "metadata": {},
   "source": [
    "## insert embedding in database"
   ]
  },
  {
   "cell_type": "code",
   "execution_count": 10,
   "metadata": {},
   "outputs": [
    {
     "name": "stdout",
     "output_type": "stream",
     "text": [
      "inserted 0-{'question': 'What is the largest continent by land area?', 'answer': \"Asia is the largest continent, covering about 30% of Earth's land area. It is home to diverse cultures, languages, and ecosystems.\"}\n",
      "inserted 1-{'question': 'Which country has the longest coastline in the world?', 'answer': 'Canada has the longest coastline, stretching over 202,080 kilometers. Its vast coastlines are along the Atlantic, Pacific, and Arctic Oceans.'}\n",
      "inserted 2-{'question': 'What river is the longest in the world?', 'answer': 'The Nile River is traditionally considered the longest river, flowing over 6,650 kilometers through northeastern Africa. It passes through countries like Egypt and Sudan.'}\n",
      "inserted 3-{'question': 'Which desert is the largest hot desert in the world?', 'answer': 'The Sahara Desert is the largest hot desert, covering approximately 9.2 million square kilometers. It spans across North Africa from the Atlantic Ocean to the Red Sea.'}\n",
      "inserted 4-{'question': 'What is the smallest country in the world by land area?', 'answer': 'Vatican City is the smallest country, with an area of just 44 hectares (110 acres). It serves as the spiritual and administrative center of the Roman Catholic Church.'}\n",
      "inserted 5-{'question': 'Which mountain is the highest in the world above sea level?', 'answer': 'Mount Everest is the highest mountain above sea level, standing at 8,848 meters (29,029 feet). It is part of the Himalayas and located on the border between Nepal and China.'}\n",
      "inserted 6-{'question': 'What ocean is the deepest in the world?', 'answer': 'The Pacific Ocean is the deepest ocean, with an average depth of about 4,280 meters. The Mariana Trench within it reaches depths of over 10,900 meters.'}\n",
      "inserted 7-{'question': 'Which two continents are entirely located in the Southern Hemisphere?', 'answer': 'Australia and Antarctica are entirely located in the Southern Hemisphere. Both continents have unique ecosystems and climates.'}\n",
      "inserted 8-{'question': 'What country has the most time zones?', 'answer': 'France has the most time zones when including its overseas territories. In total, it spans 12 different time zones across various regions worldwide.'}\n",
      "inserted 9-{'question': \"Which lake is considered the world's largest by surface area?\", 'answer': \"Lake Superior, part of North America's Great Lakes, is often considered the largest freshwater lake by surface area. It covers approximately 82,100 square kilometers.\"}\n",
      "commiting\n"
     ]
    }
   ],
   "source": [
    "for i in range(len(embeddings)):\n",
    "    cursor.execute(\"insert into asagarwa_semantic_cache values (:1, :2, :3, :4)\", \n",
    "                   [i,qa_pairs[i]['question'],qa_pairs[i]['answer'], array.array(\"f\",embeddings[i])])\n",
    "    print(f\"inserted {i}-{qa_pairs[i]}\")\n",
    "\n",
    "print(\"commiting\")\n",
    "db.commit()"
   ]
  },
  {
   "cell_type": "markdown",
   "metadata": {},
   "source": [
    "## read the table "
   ]
  },
  {
   "cell_type": "code",
   "execution_count": 11,
   "metadata": {},
   "outputs": [
    {
     "name": "stdout",
     "output_type": "stream",
     "text": [
      "3:Which desert is the largest hot desert in the world?:['The Sahara Desert is the largest hot desert, covering approximately 9.2 million square kilometers. It spans across North Africa from the Atlantic Ocean to the Red Sea.']\n",
      "7:Which two continents are entirely located in the Southern Hemisphere?:['Australia and Antarctica are entirely located in the Southern Hemisphere. Both continents have unique ecosystems and climates.']\n",
      "9:Which lake is considered the world's largest by surface area?:[\"Lake Superior, part of North America's Great Lakes, is often considered the largest freshwater lake by surface area. It covers approximately 82,100 square kilometers.\"]\n",
      "4:What is the smallest country in the world by land area?:['Vatican City is the smallest country, with an area of just 44 hectares (110 acres). It serves as the spiritual and administrative center of the Roman Catholic Church.']\n",
      "0:What is the largest continent by land area?:[\"Asia is the largest continent, covering about 30% of Earth's land area. It is home to diverse cultures, languages, and ecosystems.\"]\n",
      "1:Which country has the longest coastline in the world?:['Canada has the longest coastline, stretching over 202,080 kilometers. Its vast coastlines are along the Atlantic, Pacific, and Arctic Oceans.']\n",
      "2:What river is the longest in the world?:['The Nile River is traditionally considered the longest river, flowing over 6,650 kilometers through northeastern Africa. It passes through countries like Egypt and Sudan.']\n",
      "5:Which mountain is the highest in the world above sea level?:['Mount Everest is the highest mountain above sea level, standing at 8,848 meters (29,029 feet). It is part of the Himalayas and located on the border between Nepal and China.']\n",
      "6:What ocean is the deepest in the world?:['The Pacific Ocean is the deepest ocean, with an average depth of about 4,280 meters. The Mariana Trench within it reaches depths of over 10,900 meters.']\n",
      "8:What country has the most time zones?:['France has the most time zones when including its overseas territories. In total, it spans 12 different time zones across various regions worldwide.']\n"
     ]
    }
   ],
   "source": [
    "cursor.execute('select id,question,answer from asagarwa_semantic_cache')\n",
    "for row in cursor:\n",
    "\tprint(f\"{row[0]}:{row[1]}:{[row[2]]}\")"
   ]
  },
  {
   "cell_type": "markdown",
   "metadata": {},
   "source": [
    "## Ask A question to answer\n",
    "\n",
    "ask questions similar to questions above.  change the wording and see if the semantic cahce returns teh right answer"
   ]
  },
  {
   "cell_type": "code",
   "execution_count": 12,
   "metadata": {},
   "outputs": [],
   "source": [
    "query = input(\"Ask a question: \").strip().lower()\n",
    "q=[]\n",
    "q.append(query)\n",
    "\n"
   ]
  },
  {
   "cell_type": "markdown",
   "metadata": {},
   "source": [
    "## embed the query\n",
    "\n",
    "we nede to do the \"R\" part of rag - retrieve.  we retrieve in following steps\n",
    "1. embed the query test\n",
    "1. do a similarity serach to find the text similar to it \n",
    "2. optionally rerank it "
   ]
  },
  {
   "cell_type": "code",
   "execution_count": 13,
   "metadata": {},
   "outputs": [],
   "source": [
    "\n",
    "# embed\n",
    "\n",
    "embed_text_detail.inputs = q\n",
    "\n",
    "response = llm_client.embed_text(embed_text_detail)\n",
    "vec = array.array(\"f\",response.data.embeddings[0])\n",
    "\n",
    "\n"
   ]
  },
  {
   "cell_type": "code",
   "execution_count": 14,
   "metadata": {},
   "outputs": [
    {
     "name": "stdout",
     "output_type": "stream",
     "text": [
      "[2, 'What river is the longest in the world?', 'The Nile River is traditionally considered the longest river, flowing over 6,650 kilometers through northeastern Africa. It passes through countries like Egypt and Sudan.', 0.5283753275871277]\n",
      "[1, 'Which country has the longest coastline in the world?', 'Canada has the longest coastline, stretching over 202,080 kilometers. Its vast coastlines are along the Atlantic, Pacific, and Arctic Oceans.', 0.9030678272247314]\n",
      "[9, \"Which lake is considered the world's largest by surface area?\", \"Lake Superior, part of North America's Great Lakes, is often considered the largest freshwater lake by surface area. It covers approximately 82,100 square kilometers.\", 0.9596378803253174]\n",
      "[0, 'What is the largest continent by land area?', \"Asia is the largest continent, covering about 30% of Earth's land area. It is home to diverse cultures, languages, and ecosystems.\", 0.9724838733673096]\n",
      "[3, 'Which desert is the largest hot desert in the world?', 'The Sahara Desert is the largest hot desert, covering approximately 9.2 million square kilometers. It spans across North Africa from the Atlantic Ocean to the Red Sea.', 0.994559645652771]\n",
      "[5, 'Which mountain is the highest in the world above sea level?', 'Mount Everest is the highest mountain above sea level, standing at 8,848 meters (29,029 feet). It is part of the Himalayas and located on the border between Nepal and China.', 1.0086677074432373]\n",
      "[6, 'What ocean is the deepest in the world?', 'The Pacific Ocean is the deepest ocean, with an average depth of about 4,280 meters. The Mariana Trench within it reaches depths of over 10,900 meters.', 1.032962441444397]\n",
      "[8, 'What country has the most time zones?', 'France has the most time zones when including its overseas territories. In total, it spans 12 different time zones across various regions worldwide.', 1.051758885383606]\n",
      "[4, 'What is the smallest country in the world by land area?', 'Vatican City is the smallest country, with an area of just 44 hectares (110 acres). It serves as the spiritual and administrative center of the Roman Catholic Church.', 1.0848891735076904]\n",
      "[7, 'Which two continents are entirely located in the Southern Hemisphere?', 'Australia and Antarctica are entirely located in the Southern Hemisphere. Both continents have unique ecosystems and climates.', 1.1551157236099243]\n"
     ]
    }
   ],
   "source": [
    "# simialrity search of embedded text \n",
    "\n",
    " # COSINE, DOT, EUCLIDEAN\n",
    "cursor.execute(\"\"\"\n",
    "\tselect id,question,answer, vector_distance(embedding, :1, EUCLIDEAN) d \n",
    "\tfrom asagarwa_semantic_cache\n",
    "\torder by d\n",
    "\tfetch first 10 rows only\n",
    "\t\"\"\", [vec])\n",
    "\n",
    "rows =[]\n",
    "for row in cursor:\n",
    "\tr = [row[0], row[1], row[2], row[3]]\n",
    "\tprint(r)\n",
    "\trows.append(r)\n"
   ]
  },
  {
   "cell_type": "markdown",
   "metadata": {},
   "source": [
    "### optionally rerank"
   ]
  },
  {
   "cell_type": "code",
   "execution_count": 15,
   "metadata": {},
   "outputs": [],
   "source": [
    "# look at cohere reranking example "
   ]
  },
  {
   "cell_type": "markdown",
   "metadata": {},
   "source": [
    "## print the response "
   ]
  },
  {
   "cell_type": "code",
   "execution_count": 16,
   "metadata": {},
   "outputs": [
    {
     "name": "stdout",
     "output_type": "stream",
     "text": [
      "**************************Chat Result**************************\n",
      "Answer is The Nile River is traditionally considered the longest river, flowing over 6,650 kilometers through northeastern Africa. It passes through countries like Egypt and Sudan.\n",
      "\n",
      " other answers:\n",
      "\n",
      "0.5283753275871277:What river is the longest in the world?\n",
      "0.9030678272247314:Which country has the longest coastline in the world?\n",
      "0.9596378803253174:Which lake is considered the world's largest by surface area?\n"
     ]
    }
   ],
   "source": [
    "\n",
    "print(\"**************************Chat Result**************************\")\n",
    "print (f\"Answer is {rows[0][2]}\")\n",
    "print (\"\\n other answers:\\n\")\n",
    "for chunk in rows[0:3]: \n",
    "\tprint(f\"{chunk[3]}:{chunk[1]}\")"
   ]
  },
  {
   "cell_type": "markdown",
   "metadata": {},
   "source": [
    "## close the dabasae connections"
   ]
  },
  {
   "cell_type": "code",
   "execution_count": 32,
   "metadata": {},
   "outputs": [],
   "source": [
    "cursor.close()\n",
    "db.close()\n"
   ]
  },
  {
   "cell_type": "markdown",
   "metadata": {},
   "source": [
    "## Exercise\n",
    "\n",
    "Add semantic cache to your Rag agent and see the performance difference\n",
    "1. check to see if the question is already answered\n",
    "   * decide on the treshold of similar distance\n",
    "2.  If its under the distance return the matching answer\n",
    "3.  if not, ask the question to the agent\n",
    "    *  store the answer\n",
    "4.  tray asking a different worded questiona nd se eif it hits the cache"
   ]
  }
 ],
 "metadata": {
  "kernelspec": {
   "display_name": "base",
   "language": "python",
   "name": "python3"
  },
  "language_info": {
   "codemirror_mode": {
    "name": "ipython",
    "version": 3
   },
   "file_extension": ".py",
   "mimetype": "text/x-python",
   "name": "python",
   "nbconvert_exporter": "python",
   "pygments_lexer": "ipython3",
   "version": "3.11.5"
  }
 },
 "nbformat": 4,
 "nbformat_minor": 2
}
