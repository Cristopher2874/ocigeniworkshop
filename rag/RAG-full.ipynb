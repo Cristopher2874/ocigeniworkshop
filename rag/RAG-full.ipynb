{
 "cells": [
  {
   "cell_type": "markdown",
   "metadata": {},
   "source": [
    "# DAY 2 : RAG\n",
    "\n",
    "This is an example for all steps in a basic RAG solution \n",
    "steps: \n",
    "\n",
    "1. Setup :  chunk/embed/store\n",
    "2. R-etrival :  embed & do similarity search\n",
    "3. A -ugmnet :  optionally rerank & add to response\n",
    "4. G - enerate : ask LLm to answer question based on the retrieved chunks\n",
    "\n",
    "Questions use #generative-ai-users  or #igiu-innovation-lab slack channel\n"
   ]
  },
  {
   "cell_type": "markdown",
   "metadata": {},
   "source": [
    "### Set up variables"
   ]
  },
  {
   "cell_type": "code",
   "execution_count": 79,
   "metadata": {},
   "outputs": [
    {
     "name": "stdout",
     "output_type": "stream",
     "text": [
      " change the table names to your name & uncomment \n"
     ]
    }
   ],
   "source": [
    "from oci.generative_ai_inference import GenerativeAiInferenceClient\n",
    "from oci.generative_ai_inference.models import OnDemandServingMode, EmbedTextDetails,CohereChatRequest, ChatDetails\n",
    "import oracledb\n",
    "import array\n",
    "import oci\n",
    "import sys\n",
    "import os \n",
    "\n",
    "\n",
    "\n",
    "CONFIG_PROFILE = \"DEFAULT\"\n",
    "compartmentId = \"ocid1.compartment.oc1..aaaaaaaa5wmdeu3rf5s4rs4l66rksphne2orz4buauniiqtar63du6ni7icq\"\n",
    "endpointId= \"https://inference.generativeai.us-chicago-1.oci.oraclecloud.com\"\n",
    "\n",
    "print (\" change the table names to your name & uncomment \")\n",
    "#sys.exit(1)\n",
    "\n",
    "DB_CONFIG_DIR = os.path.expanduser(\"~/.workshop/inno_wallet\")\n",
    "DB_USER = \"ONNOVATE\"\n",
    "DB_PASS = \"Welcome_2025\"\n",
    "DB_DSN = \"innovationlab_medium\"\n",
    "DB_WALLET_LOC=os.path.expanduser(\"~/.workshop/inno_wallet\")\n",
    "DB_WALLET_PASS=\"41_innovation\""
   ]
  },
  {
   "cell_type": "markdown",
   "metadata": {},
   "source": [
    "## chunks we we want to query against "
   ]
  },
  {
   "cell_type": "code",
   "execution_count": 80,
   "metadata": {},
   "outputs": [],
   "source": [
    "sentences = [\"Baseball is a great game \",\n",
    "\t\t\t\t\"baseball games typically last 9 innings\",\n",
    "\t\t\t\t\"Baseball game can finish in about 2 hours\",\n",
    "\t\t\t\t\"Indias favroite passtime is cricket\",\n",
    "\t\t\t\t\"England's favorite passtime is football\",\n",
    "\t\t\t\t\"Football is called soccer in America\",\n",
    "\t\t\t\t\"baseball is americas favroite pass time sport\"]"
   ]
  },
  {
   "cell_type": "markdown",
   "metadata": {},
   "source": [
    "## open database connection"
   ]
  },
  {
   "cell_type": "code",
   "execution_count": 81,
   "metadata": {},
   "outputs": [],
   "source": [
    "db = oracledb.connect( config_dir= DB_CONFIG_DIR, user= DB_USER, password=DB_PASS, dsn=DB_DSN,wallet_location=DB_WALLET_LOC, wallet_password=DB_WALLET_PASS)\n",
    "cursor = db.cursor()\n"
   ]
  },
  {
   "cell_type": "markdown",
   "metadata": {},
   "source": [
    "## create tables "
   ]
  },
  {
   "cell_type": "code",
   "execution_count": 86,
   "metadata": {},
   "outputs": [],
   "source": [
    "sql = [\n",
    "\t\t\"\"\"drop table if exists asagarwa2_embedding purge\"\"\"\t,\n",
    "  \n",
    "\t\t\"\"\"\n",
    " \t\tcreate table asagarwa2_embedding (\n",
    "   \t\t\tid number,\n",
    "\t\t\ttext varchar2(4000),\n",
    "\t\t\tvec vector,\n",
    "\t\t\tprimary key (id)\n",
    "\t\t)\"\"\"\n",
    "\t]\n",
    " \n",
    "for s in sql : \n",
    "\tcursor.execute(s)\n",
    "\n",
    "db.commit()"
   ]
  },
  {
   "cell_type": "markdown",
   "metadata": {},
   "source": [
    "### load the profile"
   ]
  },
  {
   "cell_type": "code",
   "execution_count": 87,
   "metadata": {},
   "outputs": [],
   "source": [
    "# oci key enabled for api access\n",
    "config = oci.config.from_file('~/.oci/workshop', CONFIG_PROFILE)"
   ]
  },
  {
   "cell_type": "markdown",
   "metadata": {},
   "source": [
    "### set up LLM client "
   ]
  },
  {
   "cell_type": "code",
   "execution_count": 88,
   "metadata": {},
   "outputs": [],
   "source": [
    "\n",
    "# create a llm client \n",
    "llm_client = GenerativeAiInferenceClient(\n",
    "\t\t\t\tconfig=config, \n",
    "\t\t\t\tservice_endpoint=endpointId, \n",
    "\t\t\t\tretry_strategy=oci.retry.NoneRetryStrategy(),\n",
    "\t\t\t\ttimeout=(10,240))\t"
   ]
  },
  {
   "cell_type": "markdown",
   "metadata": {},
   "source": [
    "## Create embeddings"
   ]
  },
  {
   "cell_type": "code",
   "execution_count": 89,
   "metadata": {},
   "outputs": [],
   "source": [
    "embed_text_detail = EmbedTextDetails()\n",
    "embed_text_detail.serving_mode = OnDemandServingMode(model_id=\"cohere.embed-english-v3.0\")\n",
    "embed_text_detail.truncate = embed_text_detail.TRUNCATE_END\n",
    "embed_text_detail.input_type = embed_text_detail.INPUT_TYPE_SEARCH_DOCUMENT\n",
    "embed_text_detail.compartment_id = compartmentId\n",
    "embed_text_detail.inputs = sentences \n",
    "\n",
    "response = llm_client.embed_text(embed_text_detail)\n",
    "embeddings = response.data.embeddings\n"
   ]
  },
  {
   "cell_type": "markdown",
   "metadata": {},
   "source": [
    "## insert embedding in database"
   ]
  },
  {
   "cell_type": "code",
   "execution_count": 90,
   "metadata": {},
   "outputs": [
    {
     "name": "stdout",
     "output_type": "stream",
     "text": [
      "inserted 0-Baseball is a great game \n",
      "inserted 1-baseball games typically last 9 innings\n",
      "inserted 2-Baseball game can finish in about 2 hours\n",
      "inserted 3-Indias favroite passtime is cricket\n",
      "inserted 4-England's favorite passtime is football\n",
      "inserted 5-Football is called soccer in America\n",
      "inserted 6-baseball is americas favroite pass time sport\n",
      "commiting\n"
     ]
    }
   ],
   "source": [
    "for i in range(len(embeddings)):\n",
    "    cursor.execute(\"insert into asagarwa2_embedding values (:1, :2, :3)\", \n",
    "                   [i, sentences[i], array.array(\"f\",embeddings[i])])\n",
    "    print(f\"inserted {i}-{sentences[i]}\")\n",
    "\n",
    "print(\"commiting\")\n",
    "db.commit()"
   ]
  },
  {
   "cell_type": "markdown",
   "metadata": {},
   "source": [
    "## read the table "
   ]
  },
  {
   "cell_type": "code",
   "execution_count": 91,
   "metadata": {},
   "outputs": [
    {
     "name": "stdout",
     "output_type": "stream",
     "text": [
      "2:Baseball game can finish in about 2 hours\n",
      "3:Indias favroite passtime is cricket\n",
      "4:England's favorite passtime is football\n",
      "0:Baseball is a great game \n",
      "1:baseball games typically last 9 innings\n",
      "5:Football is called soccer in America\n",
      "6:baseball is americas favroite pass time sport\n"
     ]
    }
   ],
   "source": [
    "cursor.execute('select id,text from asagarwa2_embedding')\n",
    "for row in cursor:\n",
    "\tprint(f\"{row[0]}:{row[1]}\")"
   ]
  },
  {
   "cell_type": "markdown",
   "metadata": {},
   "source": [
    "## Ask A question to answer"
   ]
  },
  {
   "cell_type": "code",
   "execution_count": 92,
   "metadata": {},
   "outputs": [],
   "source": [
    "query = input(\"Ask a question: \").strip().lower()\n",
    "q=[]\n",
    "q.append(query)"
   ]
  },
  {
   "cell_type": "markdown",
   "metadata": {},
   "source": [
    "## embed the query\n",
    "\n",
    "we nede to do the \"R\" part of rag - retrieve.  we retrieve in following steps\n",
    "1. embed the query test\n",
    "1. do a similarity serach to find the text similar to it \n",
    "2. optionally rerank it "
   ]
  },
  {
   "cell_type": "code",
   "execution_count": 93,
   "metadata": {},
   "outputs": [],
   "source": [
    "\n",
    "# embed\n",
    "\n",
    "embed_text_detail.inputs = q\n",
    "\n",
    "response = llm_client.embed_text(embed_text_detail)\n",
    "vec = array.array(\"f\",response.data.embeddings[0])\n",
    "\n",
    "\n"
   ]
  },
  {
   "cell_type": "code",
   "execution_count": 94,
   "metadata": {},
   "outputs": [
    {
     "name": "stdout",
     "output_type": "stream",
     "text": [
      "[3, 'Indias favroite passtime is cricket', 0.8447505235671997]\n",
      "[6, 'baseball is americas favroite pass time sport', 0.9569643139839172]\n",
      "[4, \"England's favorite passtime is football\", 0.9846054911613464]\n",
      "[0, 'Baseball is a great game ', 1.0166956186294556]\n",
      "[5, 'Football is called soccer in America', 1.0340462923049927]\n",
      "[1, 'baseball games typically last 9 innings', 1.0601223707199097]\n",
      "[2, 'Baseball game can finish in about 2 hours', 1.1067509651184082]\n",
      "[[3, 'Indias favroite passtime is cricket', 0.8447505235671997], [6, 'baseball is americas favroite pass time sport', 0.9569643139839172], [4, \"England's favorite passtime is football\", 0.9846054911613464], [0, 'Baseball is a great game ', 1.0166956186294556], [5, 'Football is called soccer in America', 1.0340462923049927], [1, 'baseball games typically last 9 innings', 1.0601223707199097], [2, 'Baseball game can finish in about 2 hours', 1.1067509651184082]]\n"
     ]
    }
   ],
   "source": [
    "# simialrity search of embedded text \n",
    " \n",
    "# There are multiple search algorithms: COSINE, DOT, EUCLIDEAN\n",
    "cursor.execute(\"\"\"\n",
    "\t\tselect id,text, vector_distance(vec, :1, EUCLIDEAN) d \n",
    "\t\tfrom asagarwa2_embedding\n",
    "\t\torder by d\n",
    "\t\tfetch first 10 rows only\n",
    "\t\"\"\", [vec])\n",
    "\n",
    "rows =[]\n",
    "for row in cursor:\n",
    "\tr = [row[0], row[1], row[2]]\n",
    "\tprint(r)\n",
    "\trows.append(r)\n",
    "\n",
    "print (rows)"
   ]
  },
  {
   "cell_type": "markdown",
   "metadata": {},
   "source": [
    "### optionally rerank"
   ]
  },
  {
   "cell_type": "code",
   "execution_count": null,
   "metadata": {},
   "outputs": [],
   "source": [
    "# look at cohere reranking example "
   ]
  },
  {
   "cell_type": "markdown",
   "metadata": {},
   "source": [
    "## A of RAG : augment\n",
    "\n",
    "we attach the retrieved chucks as documents to chat request "
   ]
  },
  {
   "cell_type": "code",
   "execution_count": 95,
   "metadata": {},
   "outputs": [],
   "source": [
    "# prepare the payloafd \n",
    "# chat request \n",
    "cohere_chat_request = CohereChatRequest()\n",
    "#cohere_chat_request.preamble_override = \"you always answer in a one stanza poem.\"\n",
    "cohere_chat_request.is_stream = False \n",
    "cohere_chat_request.max_tokens = 500\n",
    "cohere_chat_request.temperature = 0.75\n",
    "cohere_chat_request.top_p = 0.7\n",
    "cohere_chat_request.frequency_penalty = 1.0\n",
    "#cohere_chat_request.documents = get_documents()\n",
    "\n",
    "#chat detail \n",
    "chat_detail = ChatDetails()\n",
    "chat_detail.serving_mode = OnDemandServingMode(model_id=\"cohere.command-r-plus\")\n",
    "chat_detail.compartment_id = compartmentId\n",
    "chat_detail.chat_request = cohere_chat_request\n",
    "\n"
   ]
  },
  {
   "cell_type": "code",
   "execution_count": 96,
   "metadata": {},
   "outputs": [],
   "source": [
    "# add documents\n",
    "docs =[]\n",
    "for row in rows:\n",
    "    doc = {\n",
    "        \"title\" : f\"document {row[0]}\",\n",
    "        \"snippet\" : row[1]\n",
    "    } \n",
    "    docs.append(doc)\n",
    "\n",
    "cohere_chat_request.documents = docs\n",
    "\n"
   ]
  },
  {
   "cell_type": "markdown",
   "metadata": {},
   "source": [
    "## G in RAG : Generate the respone"
   ]
  },
  {
   "cell_type": "code",
   "execution_count": 97,
   "metadata": {},
   "outputs": [
    {
     "name": "stdout",
     "output_type": "stream",
     "text": [
      "query executed\n"
     ]
    }
   ],
   "source": [
    "cohere_chat_request.message = query\n",
    "cohere_chat_request.preamble_override = \" answer only from selected docs, ignore any other information you may know\"\n",
    "llm_response = llm_client.chat(chat_detail)\n",
    "print (\"query executed\")"
   ]
  },
  {
   "cell_type": "markdown",
   "metadata": {},
   "source": [
    "## print the response "
   ]
  },
  {
   "cell_type": "code",
   "execution_count": 98,
   "metadata": {},
   "outputs": [
    {
     "name": "stdout",
     "output_type": "stream",
     "text": [
      "**************************Chat Result**************************\n",
      "which country is cricket popular?\n",
      "Cricket is a popular sport in India.\n",
      "************************** Citations**************************\n",
      "[{\n",
      "  \"document_ids\": [\n",
      "    \"doc_0\"\n",
      "  ],\n",
      "  \"end\": 36,\n",
      "  \"start\": 30,\n",
      "  \"text\": \"India.\"\n",
      "}]\n"
     ]
    }
   ],
   "source": [
    "print(\"**************************Chat Result**************************\")\n",
    "print(query)\n",
    "llm_text = llm_response.data.chat_response.text\n",
    "print(llm_response.data.chat_response.text)\n",
    "print(\"************************** Citations**************************\")\n",
    "print(llm_response.data.chat_response.citations)"
   ]
  },
  {
   "cell_type": "markdown",
   "metadata": {},
   "source": [
    "## close the dabasae connections"
   ]
  },
  {
   "cell_type": "code",
   "execution_count": null,
   "metadata": {},
   "outputs": [],
   "source": [
    "cursor.close()\n",
    "db.close()\n"
   ]
  },
  {
   "cell_type": "markdown",
   "metadata": {},
   "source": [
    "## Exercise\n",
    " * Implement a “talk-to-document”\n",
    " * Try one of :\n",
    "    * Text document\n",
    "    * PDF document\n",
    " * Play with following features\n",
    "    * Chunking\n",
    "    * Different types similarity search\n",
    "    * Reranking\n",
    "    * Citations\n"
   ]
  }
 ],
 "metadata": {
  "kernelspec": {
   "display_name": "base",
   "language": "python",
   "name": "python3"
  },
  "language_info": {
   "codemirror_mode": {
    "name": "ipython",
    "version": 3
   },
   "file_extension": ".py",
   "mimetype": "text/x-python",
   "name": "python",
   "nbconvert_exporter": "python",
   "pygments_lexer": "ipython3",
   "version": "3.11.5"
  }
 },
 "nbformat": 4,
 "nbformat_minor": 2
}
