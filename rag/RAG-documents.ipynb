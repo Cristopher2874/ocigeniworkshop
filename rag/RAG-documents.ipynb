{
 "cells": [
  {
   "cell_type": "markdown",
   "metadata": {},
   "source": [
    "# DAY 2 : RAG\n",
    "\n",
    "## Passing documents & citations\n",
    "\n",
    "### Supported models (https://docs.oracle.com/en-us/iaas/Content/generative-ai/chat-models.htm) \n",
    "- cohere.command-r-08-2024\n",
    "- cohere.command-r-16k\n",
    "- cohere.command-r-plus\n",
    "- cohere.command-r-plus-08-2024\n",
    "- meta.llama-3.1-405b-instruct\n",
    "- meta.llama-3.1-70b-instruct\n",
    "- meta.llama-3.2-90b-vision-instruct\n",
    "  \n",
    "Questions use #generative-ai-users  or ##igiu-innovation-lab slack channels "
   ]
  },
  {
   "cell_type": "markdown",
   "metadata": {},
   "source": [
    "### Set up variables"
   ]
  },
  {
   "cell_type": "code",
   "execution_count": 12,
   "metadata": {},
   "outputs": [],
   "source": [
    "# set up the  variables\n",
    "\n",
    "\n",
    "from oci.generative_ai_inference import GenerativeAiInferenceClient\n",
    "from oci.generative_ai_inference.models import *\n",
    "import oci\n",
    "\n",
    "#####\n",
    "#Setup\n",
    "#Change the compartmentid to yhe ocid of your compartment\n",
    "#Change the profile if needed\n",
    "#####\n",
    "\n",
    "CONFIG_PROFILE = \"AISANDBOX\"\n",
    "compartmentId= \"ocid1.compartment.oc1..aaaaaaaaxj6fuodcmai6n6z5yyqif6a36ewfmmovn42red37ml3wxlehjmga\" \n",
    "llm_service_endpoint= \"https://inference.generativeai.us-chicago-1.oci.oraclecloud.com\"\n",
    "\n",
    "LLM_MODEL = \"cohere.command-r-plus-08-2024\" \n",
    "PREAMBLE = \"\"\"\n",
    "        you always answer in a one stanza poem.\n",
    "\"\"\"\n",
    "MESSAGE = \"\"\"\n",
    "        \"What companies offer database services\"\n",
    "\"\"\""
   ]
  },
  {
   "cell_type": "markdown",
   "metadata": {},
   "source": [
    "### load the profile"
   ]
  },
  {
   "cell_type": "code",
   "execution_count": 13,
   "metadata": {},
   "outputs": [],
   "source": [
    "# oci key enabled for api access\n",
    "config = oci.config.from_file('~/.oci/cionfig', CONFIG_PROFILE)"
   ]
  },
  {
   "cell_type": "code",
   "execution_count": 14,
   "metadata": {},
   "outputs": [],
   "source": [
    "### set up Chat Request"
   ]
  },
  {
   "cell_type": "code",
   "execution_count": 15,
   "metadata": {},
   "outputs": [],
   "source": [
    "\n",
    "\n",
    "# chat request      \n",
    "llm_chat_request = CohereChatRequest()\n",
    "#llm_chat_request.preamble_override = PREAMBLE \n",
    "llm_chat_request.message = MESSAGE\n",
    "llm_chat_request.is_stream = False \n",
    "llm_chat_request.max_tokens = 500 # max token to generate, can lead to incomplete responses\n",
    "llm_chat_request.temperature = 1.0 # higer value menas more randon, defaul = 0.3\n",
    "#llm_chat_request.seed = 7555 # makes the best effort to make answer determininstic , not gaureented \n",
    "llm_chat_request.top_p = 0.7  # ensures only tokens with toptal probabely of p are considered, max value = 0.99, min 0.01, default 0.75\n",
    "llm_chat_request.top_k = 0  #Ensures that only top k tokens are considered, 0 turns it off, max = 500\n",
    "llm_chat_request.frequency_penalty = 0.0 # reduces the repeatedness of tokens max value 1.9=0, min 0,0\n",
    "\n"
   ]
  },
  {
   "cell_type": "markdown",
   "metadata": {},
   "source": [
    "### Add documents"
   ]
  },
  {
   "cell_type": "code",
   "execution_count": 16,
   "metadata": {},
   "outputs": [],
   "source": [
    "docs = [\n",
    "    {\n",
    "        \"title\": \"Oracle\",\n",
    "        \"snippet\": \"Oracle database services and products offer customers cost-optimized and high-performance versions of Oracle Database, the world's leading converged, multi-model database management system, as well as in-memory, NoSQL and MySQL databases. Oracle Autonomous Database, available on premises via Oracle Cloud@Customer or in the Oracle Cloud Infrastructure, enables customers to simplify relational database environments and reduce management workloads.\",\n",
    "        \"website\": \"https://www.oracle.com/database\"\n",
    "    },\n",
    "      {\n",
    "        \"title\": \"Amazon\",\n",
    "        \"snippet\": \"\"\" AWS provides the broadest selection of purpose-built databases allowing you to save, grow, and innovate faster.\n",
    "Purpose Built\n",
    "Choose from 15+ purpose-built database engines including relational, key-value, document, in-memory, graph, time series, wide column, and ledger databases.\n",
    "Performance at Scale\n",
    "Get relational databases that are 3-5X faster than popular alternatives, or non-relational databases that give you microsecond to sub-millisecond latency.\n",
    "Fully Managed\n",
    "AWS continuously monitors your clusters to keep your workloads running with self-healing storage and automated scaling, so that you can focus on application development.\n",
    "Secure & Highly Available\n",
    "AWS databases are built for business-critical, enterprise workloads, offering high availability, reliability, and security.\n",
    "\"\"\",\n",
    "        \"website\": \"https://aws.amazon.com/free/database/e\"\n",
    "    }\n",
    "]\n",
    "\n",
    "#llm_chat_request.documents = docs"
   ]
  },
  {
   "cell_type": "markdown",
   "metadata": {},
   "source": [
    "## Set up chat details"
   ]
  },
  {
   "cell_type": "code",
   "execution_count": 17,
   "metadata": {},
   "outputs": [],
   "source": [
    "\n",
    "\n",
    "# set up chat details\n",
    "chat_detail = ChatDetails()\n",
    "chat_detail.serving_mode = OnDemandServingMode(model_id=LLM_MODEL)\n",
    "chat_detail.compartment_id = compartmentId\n",
    "chat_detail.chat_request = llm_chat_request\n"
   ]
  },
  {
   "cell_type": "markdown",
   "metadata": {},
   "source": [
    "### get the LLM client "
   ]
  },
  {
   "cell_type": "code",
   "execution_count": 18,
   "metadata": {},
   "outputs": [],
   "source": [
    "\n",
    "# set up the LLM client \n",
    "llm_client = GenerativeAiInferenceClient(\n",
    "                config=config,\n",
    "                service_endpoint=llm_service_endpoint,\n",
    "                retry_strategy=oci.retry.NoneRetryStrategy(),\n",
    "                timeout=(10,240))"
   ]
  },
  {
   "cell_type": "markdown",
   "metadata": {},
   "source": [
    "### Ask the question "
   ]
  },
  {
   "cell_type": "code",
   "execution_count": 19,
   "metadata": {},
   "outputs": [
    {
     "name": "stdout",
     "output_type": "stream",
     "text": [
      "There are numerous companies that offer database services, providing various solutions for data storage, management, and analytics. Here are some prominent ones:\n",
      "\n",
      "- **Amazon Web Services (AWS)**: AWS is a leading cloud computing platform that offers a wide range of services, including database services. It provides various options such as Amazon RDS (Relational Database Service), Amazon DynamoDB (a NoSQL database), Amazon Redshift (for data warehousing), and more. AWS is known for its scalability, flexibility, and integration with other AWS services.\n",
      "\n",
      "- **Microsoft Azure**: Microsoft's cloud computing platform offers a comprehensive suite of database services. This includes Azure SQL Database (a managed relational database), Azure Cosmos DB (a globally distributed NoSQL database), Azure Database for MySQL and PostgreSQL, and Azure Synapse Analytics for data warehousing and big data processing.\n",
      "\n",
      "- **Google Cloud Platform (GCP)**: GCP provides database solutions as part of its cloud services. Google Cloud Spanner is a globally distributed relational database, while Google Cloud Firestore is a NoSQL document database. They also offer Google Cloud SQL for MySQL and PostgreSQL, and BigQuery for data warehousing and analytics.\n",
      "\n",
      "- **Oracle**: Oracle is a well-established company in the database domain, offering various database products. This includes Oracle Database, which is a popular relational database management system (RDBMS), and Oracle Autonomous Database, which provides self-driving and autonomous capabilities. Oracle also offers cloud-based database services through Oracle Cloud Infrastructure (OCI).\n",
      "\n",
      "- **IBM**: IBM offers a range of database products and services, including IBM Db2, a family of RDBMS products, and IBM Cloudant, a NoSQL database service. They also provide data warehousing solutions and database management tools.\n",
      "\n",
      "- **MongoDB**: MongoDB is a company that provides a popular open-source NoSQL database system. They offer MongoDB Atlas, a fully managed cloud database service, which is available on major cloud platforms like AWS, Azure, and GCP.\n",
      "\n",
      "- **Redis**: Redis Labs offers Redis, an in-memory data store often used as a database, cache, or message broker. They provide Redis Enterprise, a fully managed service, and also support various cloud platforms.\n",
      "\n",
      "- **Cassandra (Datastax)**: Datastax is a company that provides support and services for Apache Cassandra, a popular open-source distributed NoSQL database. They offer Datastax Enterprise and Astra DB, a cloud-native Cassandra-as-a-\n"
     ]
    }
   ],
   "source": [
    "#llm_chat_request.seed = 7555 # trting changing to see if we can reproduce teh opriginal response\n",
    "llm_response = llm_client.chat(chat_detail)\n",
    "llm_text = llm_response.data.chat_response.text\n",
    "        \n",
    "print (llm_text)"
   ]
  },
  {
   "cell_type": "markdown",
   "metadata": {},
   "source": [
    "### update the history "
   ]
  },
  {
   "cell_type": "code",
   "execution_count": 20,
   "metadata": {},
   "outputs": [],
   "source": [
    "# update history \n",
    "previous_chat_message = oci.generative_ai_inference.models.CohereUserMessage(message=\"Tell me something about Oracle.\")\n",
    "previous_chat_reply = oci.generative_ai_inference.models.CohereChatBotMessage(message=\"Oracle is one of the largest vendors in the enterprise IT market and the shorthand name of its flagship product. The database software sits at the center of many corporate IT\")\n",
    "        \n",
    "llm_chat_request.chat_history =  [previous_chat_message, previous_chat_reply]"
   ]
  },
  {
   "cell_type": "markdown",
   "metadata": {},
   "source": [
    "### ask the question again"
   ]
  },
  {
   "cell_type": "code",
   "execution_count": 21,
   "metadata": {},
   "outputs": [
    {
     "name": "stdout",
     "output_type": "stream",
     "text": [
      "Oracle's database technology is widely recognized as the most flexible and cost-effective way to manage information and applications. It is a relational database management system (RDBMS) that is widely used for enterprise workloads. Here are some key points about Oracle databases:\n",
      "\n",
      "1. **Relational Database Model**: Oracle databases are based on the relational database model, which organizes data into tables with rows and columns, ensuring data integrity and facilitating efficient data retrieval.\n",
      "\n",
      "2. **Scalability**: They are known for their scalability, allowing businesses to handle small to very large data sets and support numerous concurrent users. Oracle databases can scale up to handle increased workloads and can also be scaled out in a distributed architecture.\n",
      "\n",
      "3. **Security**: Oracle places a strong emphasis on security, offering features such as encryption, access control, and data redaction to protect sensitive information. It supports secure authentication methods and provides tools for auditing and monitoring database activities.\n",
      "\n",
      "4. **Performance**: The databases are designed for high performance, utilizing various optimization techniques, indexing, and caching to ensure fast query processing and efficient data retrieval.\n",
      "\n",
      "5. **SQL (Structured Query Language)**: Oracle databases use SQL for data manipulation and querying, which is the industry-standard language for interacting with relational databases.\n",
      "\n",
      "6. **ACID Compliance**: They guarantee ACID (Atomicity, Consistency, Isolation, Durability) properties, ensuring data integrity and reliability in transactions.\n",
      "\n",
      "7. **Oracle Database Versions**: Oracle has released multiple versions over the years, with each version introducing new features and improvements. Notable versions include Oracle Database 12c, 18c, 19c, and the latest, Oracle Database 21c.\n",
      "\n",
      "8. **Cloud Support**: Oracle offers cloud-based database services through Oracle Cloud Infrastructure (OCI), providing options for Database-as-a-Service (DBaaS) and supporting various deployment models.\n",
      "\n",
      "9. **Backup and Recovery**: Oracle provides robust backup and recovery solutions, including the Recovery Manager (RMAN) tool, to ensure data protection and business continuity.\n",
      "\n",
      "10. **PL/SQL (Procedural Language/SQL)**: Oracle supports PL/SQL, an extension to SQL, which allows developers to write powerful stored procedures, functions, and triggers.\n",
      "\n",
      "Oracle databases are commonly used in various industries, including finance, healthcare, telecommunications, and government, to manage critical business data and support enterprise applications. The company also offers a wide range of tools and services\n"
     ]
    }
   ],
   "source": [
    "#llm_chat_request.documents = []\n",
    "llm_chat_request.message = \"tell me more about its databases\"\n",
    "llm_response = llm_client.chat(chat_detail)\n",
    "llm_text = llm_response.data.chat_response.text\n",
    "        \n",
    "print (llm_text)"
   ]
  },
  {
   "cell_type": "markdown",
   "metadata": {},
   "source": [
    "*** print response & citations"
   ]
  },
  {
   "cell_type": "code",
   "execution_count": 22,
   "metadata": {},
   "outputs": [
    {
     "name": "stdout",
     "output_type": "stream",
     "text": [
      "**************************Chat Result**************************\n",
      "Oracle's database technology is widely recognized as the most flexible and cost-effective way to manage information and applications. It is a relational database management system (RDBMS) that is widely used for enterprise workloads. Here are some key points about Oracle databases:\n",
      "\n",
      "1. **Relational Database Model**: Oracle databases are based on the relational database model, which organizes data into tables with rows and columns, ensuring data integrity and facilitating efficient data retrieval.\n",
      "\n",
      "2. **Scalability**: They are known for their scalability, allowing businesses to handle small to very large data sets and support numerous concurrent users. Oracle databases can scale up to handle increased workloads and can also be scaled out in a distributed architecture.\n",
      "\n",
      "3. **Security**: Oracle places a strong emphasis on security, offering features such as encryption, access control, and data redaction to protect sensitive information. It supports secure authentication methods and provides tools for auditing and monitoring database activities.\n",
      "\n",
      "4. **Performance**: The databases are designed for high performance, utilizing various optimization techniques, indexing, and caching to ensure fast query processing and efficient data retrieval.\n",
      "\n",
      "5. **SQL (Structured Query Language)**: Oracle databases use SQL for data manipulation and querying, which is the industry-standard language for interacting with relational databases.\n",
      "\n",
      "6. **ACID Compliance**: They guarantee ACID (Atomicity, Consistency, Isolation, Durability) properties, ensuring data integrity and reliability in transactions.\n",
      "\n",
      "7. **Oracle Database Versions**: Oracle has released multiple versions over the years, with each version introducing new features and improvements. Notable versions include Oracle Database 12c, 18c, 19c, and the latest, Oracle Database 21c.\n",
      "\n",
      "8. **Cloud Support**: Oracle offers cloud-based database services through Oracle Cloud Infrastructure (OCI), providing options for Database-as-a-Service (DBaaS) and supporting various deployment models.\n",
      "\n",
      "9. **Backup and Recovery**: Oracle provides robust backup and recovery solutions, including the Recovery Manager (RMAN) tool, to ensure data protection and business continuity.\n",
      "\n",
      "10. **PL/SQL (Procedural Language/SQL)**: Oracle supports PL/SQL, an extension to SQL, which allows developers to write powerful stored procedures, functions, and triggers.\n",
      "\n",
      "Oracle databases are commonly used in various industries, including finance, healthcare, telecommunications, and government, to manage critical business data and support enterprise applications. The company also offers a wide range of tools and services\n",
      "************************** Citations**************************\n",
      "None\n"
     ]
    }
   ],
   "source": [
    "print(\"**************************Chat Result**************************\")\n",
    "#llm_text = llm_response.data.chat_response.text\n",
    "print(llm_response.data.chat_response.text)\n",
    "print(\"************************** Citations**************************\")\n",
    "print(llm_response.data.chat_response.citations)"
   ]
  }
 ],
 "metadata": {
  "kernelspec": {
   "display_name": "base",
   "language": "python",
   "name": "python3"
  },
  "language_info": {
   "codemirror_mode": {
    "name": "ipython",
    "version": 3
   },
   "file_extension": ".py",
   "mimetype": "text/x-python",
   "name": "python",
   "nbconvert_exporter": "python",
   "pygments_lexer": "ipython3",
   "version": "3.11.5"
  }
 },
 "nbformat": 4,
 "nbformat_minor": 2
}
