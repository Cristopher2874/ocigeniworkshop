{
 "cells": [
  {
   "cell_type": "markdown",
   "metadata": {},
   "source": [
    "# DAY 2 : RAG\n",
    "\n",
    "## Calling RAG Agents  \n",
    "  \n",
    "Questions use #generative-ai-agent-users or #igiu-innovation-lab slack channel\n",
    "\n",
    "if you have errors running sample code reach out for help in #igiu-ai-learning"
   ]
  },
  {
   "cell_type": "markdown",
   "metadata": {},
   "source": [
    "### Set up variables"
   ]
  },
  {
   "cell_type": "code",
   "execution_count": 1,
   "metadata": {},
   "outputs": [],
   "source": [
    "# set up the  variables\n",
    "\n",
    "from oci.generative_ai_agent_runtime import GenerativeAiAgentRuntimeClient\n",
    "import oci\n",
    "import os,json \n",
    "\n",
    "\n",
    "GENAI_URL = \"https://agent-runtime.generativeai.us-chicago-1.oci.oraclecloud.com\"\n",
    "\n",
    "#####\n",
    "#make sure your sandbox.json file is setup for your environment. You might have to specify the full path depending on  your `cwd` \n",
    "#####\n",
    "SANDBOX_CONFIG_FILE = \"sandbox.json\"\n"
   ]
  },
  {
   "cell_type": "markdown",
   "metadata": {},
   "source": [
    "### load the profile"
   ]
  },
  {
   "cell_type": "code",
   "execution_count": 2,
   "metadata": {},
   "outputs": [],
   "source": [
    "scfg = None\n",
    "# read the sandbox config \n",
    "with open(os.path.expanduser(SANDBOX_CONFIG_FILE), 'r') as f:\n",
    "                scfg=  json.load(f)\n",
    "                \n",
    "config = oci.config.from_file(os.path.expanduser(scfg[\"oci\"][\"configFile\"]),scfg[\"oci\"][\"profile\"])\n",
    "compartmentId = scfg[\"oci\"][\"compartment\"]\n",
    "endpoint = scfg[\"agent\"][\"endpoint\"]"
   ]
  },
  {
   "cell_type": "markdown",
   "metadata": {},
   "source": [
    "### get the LLM Agent  client "
   ]
  },
  {
   "cell_type": "code",
   "execution_count": 3,
   "metadata": {},
   "outputs": [],
   "source": [
    "\n",
    "# set up the LLM client \n",
    "llm_agent_client = GenerativeAiAgentRuntimeClient(\n",
    "        config=config,\n",
    "        service_endpoint=GENAI_URL,\n",
    "        retry_strategy=oci.retry.NoneRetryStrategy(),\n",
    "        timeout=(10, 240),\n",
    "    )"
   ]
  },
  {
   "cell_type": "markdown",
   "metadata": {},
   "source": [
    "### create the session"
   ]
  },
  {
   "cell_type": "code",
   "execution_count": 4,
   "metadata": {},
   "outputs": [],
   "source": [
    "\n",
    "create_session_details = oci.generative_ai_agent_runtime.models.CreateSessionDetails(\n",
    "    display_name=\"display_name\", description=\"description\"\n",
    ")\n",
    "\n",
    "create_session_response = llm_agent_client.create_session(create_session_details, endpoint)\n",
    "session_id = create_session_response.data.id"
   ]
  },
  {
   "cell_type": "markdown",
   "metadata": {},
   "source": [
    "### Ask the question \n",
    "\n",
    "sample questions \n",
    "- how often do i need to service battery\n",
    "- when should oil be replace din recloser\n",
    "- what is accepted co2 in DGA"
   ]
  },
  {
   "cell_type": "code",
   "execution_count": null,
   "metadata": {},
   "outputs": [],
   "source": [
    "chat_detail = oci.generative_ai_agent_runtime.models.ChatDetails()\n",
    "chat_detail.user_message = \" tell me three things about solar inverters\" \n",
    "chat_detail.session_id = session_id\n",
    "chat_response = llm_agent_client.chat(endpoint, chat_detail)\n",
    "result = chat_response.data.message.content\n",
    "\n",
    "print(\"****** citation ********\")\n",
    "print(result.citations)\n",
    "print(\"****** answer ********\")\n",
    "print(result.text)"
   ]
  },
  {
   "cell_type": "markdown",
   "metadata": {},
   "source": [
    "### ask the question again"
   ]
  },
  {
   "cell_type": "code",
   "execution_count": null,
   "metadata": {},
   "outputs": [],
   "source": [
    "chat_detail = oci.generative_ai_agent_runtime.models.ChatDetails()\n",
    "chat_detail.user_message = \" tell me more about the second thing\" \n",
    "chat_detail.session_id = session_id\n",
    "chat_response = llm_agent_client.chat(GENAI_CHAT_ENDPOINT, chat_detail)\n",
    "result = chat_response.data.message.content\n",
    "\n",
    "print(\"****** citation ********\")\n",
    "print(result.citations)\n",
    "print(\"****** answer ********\")\n",
    "print(result.text)"
   ]
  },
  {
   "cell_type": "markdown",
   "metadata": {},
   "source": [
    "## Exercise\n",
    "\n",
    "1. add documents to workshop knowledgebase\n",
    "   1. try pdfs with images/charts\n",
    "2. Ingest\n",
    "3. Play with chat\n",
    "4. try with code "
   ]
  }
 ],
 "metadata": {
  "kernelspec": {
   "display_name": "base",
   "language": "python",
   "name": "python3"
  },
  "language_info": {
   "codemirror_mode": {
    "name": "ipython",
    "version": 3
   },
   "file_extension": ".py",
   "mimetype": "text/x-python",
   "name": "python",
   "nbconvert_exporter": "python",
   "pygments_lexer": "ipython3",
   "version": "3.11.5"
  }
 },
 "nbformat": 4,
 "nbformat_minor": 2
}
