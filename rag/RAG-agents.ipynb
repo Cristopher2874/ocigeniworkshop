{
 "cells": [
  {
   "cell_type": "markdown",
   "metadata": {},
   "source": [
    "# DAY 2 : RAG\n",
    "\n",
    "## Calling RAG Agents  \n",
    "  \n",
    "Questions use #generative-ai-agent-users or #igiu-innovation-lab slack channel"
   ]
  },
  {
   "cell_type": "markdown",
   "metadata": {},
   "source": [
    "### Set up variables"
   ]
  },
  {
   "cell_type": "code",
   "execution_count": 1,
   "metadata": {},
   "outputs": [],
   "source": [
    "# set up the  variables\n",
    "\n",
    "from oci.generative_ai_agent_runtime import GenerativeAiAgentRuntimeClient\n",
    "import oci\n",
    "\n",
    "CONFIG_PROFILE = \"AISANDBOX\"\n",
    "GENAI_URL = \"https://agent-runtime.generativeai.us-chicago-1.oci.oraclecloud.com\"\n",
    "GENAI_CHAT_ENDPOINT = \"ocid1.genaiagentendpoint.oc1.us-chicago-1.amaaaaaaghwivzaab2dsqrl4xsbevpi4kc7lsmwmr76qxkmeeovgksv2hylq\"\n"
   ]
  },
  {
   "cell_type": "markdown",
   "metadata": {},
   "source": [
    "### load the profile"
   ]
  },
  {
   "cell_type": "code",
   "execution_count": 2,
   "metadata": {},
   "outputs": [],
   "source": [
    "# oci key enabled for api access\n",
    "config = oci.config.from_file('~/.oci/config', CONFIG_PROFILE)"
   ]
  },
  {
   "cell_type": "markdown",
   "metadata": {},
   "source": [
    "### get the LLM Agent  client "
   ]
  },
  {
   "cell_type": "code",
   "execution_count": 3,
   "metadata": {},
   "outputs": [],
   "source": [
    "\n",
    "# set up the LLM client \n",
    "llm_agent_client = GenerativeAiAgentRuntimeClient(\n",
    "        config=config,\n",
    "        service_endpoint=GENAI_URL,\n",
    "        retry_strategy=oci.retry.NoneRetryStrategy(),\n",
    "        timeout=(10, 240),\n",
    "    )"
   ]
  },
  {
   "cell_type": "markdown",
   "metadata": {},
   "source": [
    "### create the session"
   ]
  },
  {
   "cell_type": "code",
   "execution_count": 4,
   "metadata": {},
   "outputs": [],
   "source": [
    "\n",
    "create_session_details = oci.generative_ai_agent_runtime.models.CreateSessionDetails(\n",
    "    display_name=\"display_name\", description=\"description\"\n",
    ")\n",
    "\n",
    "create_session_response = llm_agent_client.create_session(create_session_details, GENAI_CHAT_ENDPOINT)\n",
    "session_id = create_session_response.data.id"
   ]
  },
  {
   "cell_type": "markdown",
   "metadata": {},
   "source": [
    "### Ask the question \n",
    "\n",
    "sample questions \n",
    "- how often do i need to service battery\n",
    "- when should oil be replace din recloser\n",
    "- what is accepted co2 in DGA"
   ]
  },
  {
   "cell_type": "code",
   "execution_count": 6,
   "metadata": {},
   "outputs": [
    {
     "name": "stdout",
     "output_type": "stream",
     "text": [
      "****** citation ********\n",
      "[{\n",
      "  \"source_location\": {\n",
      "    \"source_location_type\": \"OCI_OBJECT_STORAGE\",\n",
      "    \"url\": \"https://objectstorage.us-chicago-1.oraclecloud.com/n/axaemuxiyife/b/workshopbucket/o/workshop-kb/solar-inverter-user-manual.pdf\"\n",
      "  },\n",
      "  \"source_text\": \"Table 4 General Specifications \\n|Charging Algorithm|17&amp;#45;Step(Battery Type , AGM/FLD/UB/CUS Battery)|Col3|Col4|\\n|---|---|---|---|\\n|Charging algorithm for lead acid battery||||\\n|Charging algorithm for lithium battery||||\\n|Joints Utility and Solar Charging||||\\n|INVERTER MODEL|3KW DC24V|3KW DC48V|5KW DC48V|\\n|Solar charging mode|MPPT|||\\n|Maximum charging current|60A|80A|80A|\\n|Default charging current|60A|80A|80A|\\n\\n\"\n",
      "}, {\n",
      "  \"source_location\": {\n",
      "    \"source_location_type\": \"OCI_OBJECT_STORAGE\",\n",
      "    \"url\": \"https://objectstorage.us-chicago-1.oraclecloud.com/n/axaemuxiyife/b/workshopbucket/o/workshop-kb/solar-inverter-user-manual.pdf\"\n",
      "  },\n",
      "  \"source_text\": \"56.8Vdc \\n56.8Vdc \\nBulk \\ncharging \\nvoltage (C.V \\nvoltage) Charging Algorithm \\n17-Step(Battery Type , AGM/FLD/UB/CUS Battery) \\nSolar Charging Mode \\nINVERTER MODEL 3KW DC24V \\n3KW DC48V 5KW DC48V \\nRated Power \\n3000W \\n3000W \\n5000W \\nMPPT charger \\nsolar charging current \\n60A \\n80A \\n80A \\nMax. PV Array Open Circuit Voltage \\n145Vdc max \\n450Vdc max \\n450Vdc max \\nPV Array MPPT Voltage Range \\n30~115Vdc \\n120~430Vdc \\n120~430Vdc \\nMin battery voltage for PV charge \\n30Vdc \\n120Vdc \\n120Vdc \\nStandby Power Consumption \\n2W \\nLine mode charger \\ncharging current \\n60A \\n60A \\n60A \\nLine Voltage Range \\n90~280VAC(APP mode); 170~280VAC(UPS mode) Battery Voltage Accuracy \\n+/-0.3% \\nVoltage Accuracy \\n+/-2V\"\n",
      "}, {\n",
      "  \"source_location\": {\n",
      "    \"source_location_type\": \"OCI_OBJECT_STORAGE\",\n",
      "    \"url\": \"https://objectstorage.us-chicago-1.oraclecloud.com/n/axaemuxiyife/b/workshopbucket/o/workshop-kb/solar-inverter-user-manual.pdf\"\n",
      "  },\n",
      "  \"source_text\": \"Table 3 Charge Mode Specifications \\n|Charge Mode Specifications|Col2|Col3|Col4|Col5|\\n|---|---|---|---|---|\\n|INVERTER MODEL||3KW DC24V|3KW DC48V|5KW DC48V|\\n|Charging Current @ Nominal Input Voltage||1~120A|1~80A|1~80A|\\n|Absorption Voltage|AGM / FLD/LIB/CUS Battery|25Vdc|50Vdc|50Vdc|\\n||Flooded battery|25Vdc|50Vdc|50Vdc|\\n|Floating charging voltage|AGM / FLD/LIB/CUS Battery|27.4Vdc|54.8Vdc|54.8Vdc|\\n||Flooded battery|27.4Vdc|54.8Vdc|54.8Vdc|\\n|Bulk charging voltage (C.V voltage)|AGM / FLD/LIB/CUS Battery|28.8Vdc|57.6Vdc|57.6Vdc|\\n||AGM / FLD/LIB/CUS Battery|28.4Vdc|56.8Vdc|56.8Vdc|\\n|Charging Algorithm||17&amp;#45;Step(Battery Type , AGM/FLD/UB/CUS Battery)|||\\n|Solar Charging Mode|||||\\n|INVERTER MODEL||3KW DC24V|3KW DC48V|5KW DC48V|\\n|Rated Power||3000W|3000W|5000W|\\n|MPPT charger|||||\\n|solar charging current||60A|80A|80A|\\n|Max.PV Array Open Circuit Voltage||145Vdc max|450Vdc max|450Vdc max|\\n|PV Array MPPT Voltage Range||30~115Vdc|120~430Vdc|120~430Vdc|\\n|Min battery voltage for PV charge||30Vdc|120Vdc|120Vdc|\\n|Standby Power Consumption||2W|||\\n|Line mode charger|||||\\n|charging current||60A|60A|60A|\\n|Line Voltage Range||90~280VAC(APP mode); 170~280VAC(UPS mode)|||\\n|Battery Voltage Accuracy||+/&amp;#45;0.3%|||\\n|Voltage Accuracy||+/&amp;#45;2V|||\\n\\n\"\n",
      "}, {\n",
      "  \"source_location\": {\n",
      "    \"source_location_type\": \"OCI_OBJECT_STORAGE\",\n",
      "    \"url\": \"https://objectstorage.us-chicago-1.oraclecloud.com/n/axaemuxiyife/b/workshopbucket/o/workshop-kb/solar-inverter-user-manual.pdf\"\n",
      "  },\n",
      "  \"source_text\": \"\\n|Total PV module numbers=maximum PV module numbers in series*PV module numbers in parallel.|Col2|Col3|Col4|Col5|Col6|Col7|Col8|Col9|Col10|Col11|\\n|---|---|---|---|---|---|---|---|---|---|---|\\n||||||||||||\\n||Solar Charging Mode||||||||||\\n||INVERTER MODEL|||3KW DC24V|||3KW DC48V||5KW DC48V||\\n||||||||||||\\n||Rated Power|||3000W|||3000W||5000W||\\n||||||||||||\\n||MPPT charger||||||||||\\n||solar charging current|||60A|||80A||80A||\\n||Max.PV Array Power|||1500W|||5500W||||\\n||Max. PV Array Open Circuit Voltage|||145Vdc|||450Vdc||||\\n||PV Array MPPT Voltage Range|||30~115Vdc|||120~430Vdc||||\\n||Min. battery voltage for PV charge|||30Vdc|||120Vdc||||\\n||AC INPUT charger||||||||||\\n||AC charging current|||60A|||80A||80A||\\n||||||||||||\\n||Operating Voltage Range|||90~280Vac|||||||\\n\\n\"\n",
      "}, {\n",
      "  \"source_location\": {\n",
      "    \"source_location_type\": \"OCI_OBJECT_STORAGE\",\n",
      "    \"url\": \"https://objectstorage.us-chicago-1.oraclecloud.com/n/axaemuxiyife/b/workshopbucket/o/workshop-kb/solar-inverter-user-manual.pdf\"\n",
      "  },\n",
      "  \"source_text\": \"\\n|Program|Description|Select&amp;#45;able option|Col4|\\n|---|---|---|---|\\n|01|Output voltage NOTE: When the output voltage is set to 208V, the output needs to be derated to 90%.|||\\n|||||\\n|02|Output frequency|||\\n|03|Output source priority : To configure load power source priority||Utility will provide power to the loads as first priority. Solar and battery energy will provide power to the loads only when utility power is not available.|\\n||||Solar energy provides power to the loads as first priority. If solar energy is not sufficient to power all connected loads, Utility energy will supply power to the loads at the same time.|\\n||||Solar energy provides power to the loads as first priority. If solar energy is not sufficient to power all connected loads, battery energy will supply power to the loads at the same time.|\\n\\n\"\n",
      "}]\n",
      "****** answer ********\n",
      "1. Solar inverters are a crucial component in solar power systems, converting the electricity generated by solar panels from direct current (DC) to alternating current (AC) for use in homes and businesses.\n",
      "2. The provided specifications showcase different models of solar inverters with varying features and capabilities, including different power ratings, charging algorithms, and voltage ranges.\n",
      "3. The solar inverters described in the references have a range of charging modes and algorithms to accommodate different battery types, ensuring efficient and safe charging.\n"
     ]
    }
   ],
   "source": [
    "chat_detail = oci.generative_ai_agent_runtime.models.ChatDetails()\n",
    "chat_detail.user_message = \" tell me three things about solar inverters\" \n",
    "chat_detail.session_id = session_id\n",
    "chat_response = llm_agent_client.chat(GENAI_CHAT_ENDPOINT, chat_detail)\n",
    "result = chat_response.data.message.content\n",
    "\n",
    "print(\"****** citation ********\")\n",
    "print(result.citations)\n",
    "print(\"****** answer ********\")\n",
    "print(result.text)"
   ]
  },
  {
   "cell_type": "markdown",
   "metadata": {},
   "source": [
    "### ask the question again"
   ]
  },
  {
   "cell_type": "code",
   "execution_count": null,
   "metadata": {},
   "outputs": [],
   "source": [
    "chat_detail = oci.generative_ai_agent_runtime.models.ChatDetails()\n",
    "chat_detail.user_message = \" tell me more about the second thing\" \n",
    "chat_detail.session_id = session_id\n",
    "chat_response = llm_agent_client.chat(GENAI_CHAT_ENDPOINT, chat_detail)\n",
    "result = chat_response.data.message.content\n",
    "\n",
    "print(\"****** citation ********\")\n",
    "print(result.citations)\n",
    "print(\"****** answer ********\")\n",
    "print(result.text)"
   ]
  },
  {
   "cell_type": "markdown",
   "metadata": {},
   "source": [
    "## Exercise\n",
    "\n",
    "1. add documents to workshop knowledgebase\n",
    "   1. try pdfs with images/charts\n",
    "2. Ingest\n",
    "3. Play with chat\n",
    "4. try with code "
   ]
  }
 ],
 "metadata": {
  "kernelspec": {
   "display_name": "base",
   "language": "python",
   "name": "python3"
  },
  "language_info": {
   "codemirror_mode": {
    "name": "ipython",
    "version": 3
   },
   "file_extension": ".py",
   "mimetype": "text/x-python",
   "name": "python",
   "nbconvert_exporter": "python",
   "pygments_lexer": "ipython3",
   "version": "3.11.5"
  }
 },
 "nbformat": 4,
 "nbformat_minor": 2
}
