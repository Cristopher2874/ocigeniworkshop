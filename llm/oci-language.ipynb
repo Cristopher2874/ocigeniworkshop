{
 "cells": [
  {
   "cell_type": "markdown",
   "id": "2d2ef77c",
   "metadata": {},
   "source": [
    "# OCI language \n",
    "\n",
    "Small Language Models can be cheaper and better for arious languge tasks. \n",
    "\n",
    "1. sentiment analysius\n",
    "1. key phrase extraction\n",
    "1. named entity extraction \n",
    "1. text classification\n",
    "1. PII identification & masking \n",
    "1. language detection\n",
    "1. translation\n",
    "\n",
    "see sdk at  at : https://github.com/oracle/oci-python-sdk/blob/22fd62c8dbbd1aaed6b75754ec1ba8a3c16a4e5a/src/oci/ai_language/ai_service_language_client.py#L584\n",
    "documentation at : https://docs.oracle.com/en-us/iaas/language/using/home.htm"
   ]
  },
  {
   "cell_type": "markdown",
   "id": "9b258bc1",
   "metadata": {},
   "source": [
    "## Sentiment Analysis\n",
    "\n",
    "Aspects:  Topics or concepts withn in text\n",
    "Sentences:  sentiment for the entire sentences\n",
    "\n",
    "https://docs.oracle.com/en-us/iaas/language/using/sentment.htm"
   ]
  },
  {
   "cell_type": "code",
   "execution_count": 5,
   "id": "74087996",
   "metadata": {},
   "outputs": [],
   "source": [
    "import oci, os, json \n",
    "\n",
    "\n",
    "#####\n",
    "#make sure your sandbox.json file is setup for your environment. You might have to specify the full path depending on  your `cwd` \n",
    "#####\n",
    "SANDBOX_CONFIG_FILE = \"sandbox.json\"\n",
    "\n",
    "scfg = None\n",
    "# read the sandbox config \n",
    "with open(os.path.expanduser(SANDBOX_CONFIG_FILE), 'r') as f:\n",
    "                scfg=  json.load(f)\n",
    "                \n",
    "#read the oci config\n",
    "config = oci.config.from_file(os.path.expanduser(scfg[\"oci\"][\"configFile\"]),scfg[\"oci\"][\"profile\"])\n",
    "\n",
    "compartmentId=  scfg[\"oci\"][\"compartment\"]\n",
    "\n",
    "\n",
    "lang_client = oci.ai_language.AIServiceLanguageClient(config)\n",
    "\n",
    "\n",
    "test_string1 = \"\"\"\n",
    "    Oracle Cloud Infrastructure is built for enterprises seeking higher performance, lower costs, and easier cloud migration for their applications. \n",
    "    Customers choose Oracle Cloud Infrastructure over AWS for several reasons:\n",
    "    First, they can consume cloud services in the public cloud or within their  own data center with Oracle Dedicated Region Cloud@Customer. \n",
    "    Second, they can migrate and run any workload as is on Oracle Cloud, including Oracle databases and applications, VMware, or bare metal servers. \n",
    "    Third, customers can easily implement security controls and automation to prevent misconfiguration errors and implement security best practices. \n",
    "    Fourth, they have lower risks with Oracle’s end-to-end SLAs covering performance, availability, and manageability of services. \n",
    "    Finally, their workloads achieve better performance at a significantly lower cost with Oracle Cloud Infrastructure than AWS.\n",
    "    \n",
    "    Take a look at what makes Oracle Cloud Infrastructure a better cloud platform than AWS.\"\n",
    "\"\"\"\n",
    "test_string2 = \" The restaurant Chinese Garden on 100  Broadway, Denver, CO-80503 serves delicious meal, but the food can be expensive.\"\n",
    "test_string3 = \" The wet, slushy rain in Denver can lead to accidents, but if yuo send an emai to help@denver.org they will come out and help which is awesome\"\n",
    "\n",
    "test_doc1 = oci.ai_language.models.TextDocument(\n",
    "        key=\"oci\",\n",
    "        text=test_string1,\n",
    "        language_code=\"en\"\n",
    "        )\n",
    "\n",
    "test_doc2 = oci.ai_language.models.TextDocument(\n",
    "        key=\"chinese_garden\",\n",
    "        text=test_string2,\n",
    "        language_code=\"en\"\n",
    "        )\n",
    "test_doc3 = oci.ai_language.models.TextDocument(\n",
    "        key=\"Denver\",\n",
    "        text=test_string3,\n",
    "        language_code=\"en\"\n",
    "        )\n",
    "\n",
    "test_docs=[test_doc1, test_doc2, test_doc3]"
   ]
  },
  {
   "cell_type": "code",
   "execution_count": null,
   "id": "9f1132bc",
   "metadata": {},
   "outputs": [],
   "source": [
    "#Sentiment analysis - aspect\n",
    "\n",
    "senti_details =oci.ai_language.models.BatchDetectLanguageSentimentsDetails(\n",
    "    documents = test_docs,\n",
    "    compartment_id = compartmentId)\n",
    "\n",
    "senti_res = lang_client.batch_detect_language_sentiments(batch_detect_language_sentiments_details=senti_details , level=[\"ASPECT\"] )\n",
    "\n",
    "print (senti_res.data)"
   ]
  },
  {
   "cell_type": "code",
   "execution_count": null,
   "id": "84897443",
   "metadata": {},
   "outputs": [],
   "source": [
    "#Sentiment analysis - sentence\n",
    "\n",
    "senti_details =oci.ai_language.models.BatchDetectLanguageSentimentsDetails(\n",
    "    documents=test_docs,\n",
    "    compartment_id = compartmentId)\n",
    "\n",
    "senti_res = lang_client.batch_detect_language_sentiments(batch_detect_language_sentiments_details=senti_details , level=[\"SENTENCE\"] )\n",
    "\n",
    "print (senti_res.data)"
   ]
  },
  {
   "cell_type": "markdown",
   "id": "c607f238",
   "metadata": {},
   "source": [
    "## Key Phrase Extraction"
   ]
  },
  {
   "cell_type": "code",
   "execution_count": null,
   "id": "c2950dc4",
   "metadata": {},
   "outputs": [],
   "source": [
    "keyphrase_extraction = lang_client.batch_detect_language_key_phrases(\n",
    "            batch_detect_language_key_phrases_details=oci.ai_language.models.BatchDetectLanguageKeyPhrasesDetails(documents=test_docs,compartment_id = compartmentId)\n",
    "        )\n",
    "         \n",
    "print(keyphrase_extraction.data)"
   ]
  },
  {
   "cell_type": "markdown",
   "id": "f5c8b720",
   "metadata": {},
   "source": [
    "## Named Entity Extractions\n",
    "\n",
    "see : https://docs.oracle.com/en-us/iaas/language/using/ner.htm"
   ]
  },
  {
   "cell_type": "code",
   "execution_count": null,
   "id": "25921ffd",
   "metadata": {},
   "outputs": [],
   "source": [
    "ner_extraction = lang_client.batch_detect_language_entities(\n",
    "            batch_detect_language_entities_details=oci.ai_language.models.BatchDetectLanguageEntitiesDetails(documents=test_docs,compartment_id = compartmentId)\n",
    "        )\n",
    "         \n",
    "print(ner_extraction.data)"
   ]
  },
  {
   "cell_type": "markdown",
   "id": "def56771",
   "metadata": {},
   "source": [
    "## Text Classification\n",
    "\n",
    "see: https://docs.oracle.com/en-us/iaas/language/using/text-class.htm\n"
   ]
  },
  {
   "cell_type": "code",
   "execution_count": null,
   "id": "9415b546",
   "metadata": {},
   "outputs": [],
   "source": [
    "# Run text classification on text_document\n",
    "text_classification = lang_client.batch_detect_language_text_classification(\n",
    "            batch_detect_language_text_classification_details=oci.ai_language.models.BatchDetectLanguageTextClassificationDetails(\n",
    "                documents=test_docs,compartment_id = compartmentId\n",
    "            )\n",
    "        )\n",
    "print(text_classification.data)"
   ]
  },
  {
   "cell_type": "markdown",
   "id": "0d77a52d",
   "metadata": {},
   "source": [
    "# PII Identification\n",
    "\n",
    "see: https://docs.oracle.com/en-us/iaas/language/using/pii.htm"
   ]
  },
  {
   "cell_type": "code",
   "execution_count": null,
   "id": "e08be2dd",
   "metadata": {},
   "outputs": [],
   "source": [
    "\n",
    "\n",
    "piiEntityMasking = oci.ai_language.models.PiiEntityMask(mode=\"MASK\", masking_character=\"*\", leave_characters_unmasked=4,\n",
    "                                                        is_unmasked_from_end=True)\n",
    "masking = {\"ALL\": piiEntityMasking}\n",
    "pii_identification = lang_client.batch_detect_language_pii_entities(\n",
    "            batch_detect_language_pii_entities_details=oci.ai_language.models.BatchDetectLanguagePiiEntitiesDetails(\n",
    "                documents=test_docs,compartment_id = compartmentId,\n",
    "                masking = masking\n",
    "            )\n",
    "        )\n",
    "print (pii_identification.data)"
   ]
  },
  {
   "cell_type": "markdown",
   "id": "e743f8a4",
   "metadata": {},
   "source": [
    "# Language detection \n",
    "https://docs.oracle.com/en-us/iaas/language/using/lang-detect.htm\n"
   ]
  },
  {
   "cell_type": "code",
   "execution_count": null,
   "id": "a389a1c6",
   "metadata": {},
   "outputs": [],
   "source": [
    "# AI Service : Language detection\n",
    "\n",
    "\n",
    "lang_doc1 = oci.ai_language.models.DominantLanguageDocument(\n",
    "        key=\"french\",\n",
    "        text=\"Et encore une autre langue, es-possible qu'il le comprend ?\",\n",
    "        )\n",
    "\n",
    "lang_doc2 = oci.ai_language.models.DominantLanguageDocument(\n",
    "        key=\"dutch\",\n",
    "        text=\"Een tekst in mijn moedertaal om het een beetje moeilijker te maken voor de service\",\n",
    "        )\n",
    "lang_doc3 = oci.ai_language.models.DominantLanguageDocument(\n",
    "        key=\"english\",\n",
    "        text=\"This should be fairly easy to detect, I'll avoid using the name of the actual language in this text\",\n",
    "        )\n",
    "\n",
    "lang_docs=[lang_doc1, lang_doc2, lang_doc3]\n",
    "\n",
    "response = lang_client.batch_detect_dominant_language (batch_detect_dominant_language_details=\n",
    "        oci.ai_language.models.BatchDetectDominantLanguageDetails(documents=lang_docs,compartment_id = compartmentId)\n",
    "    )\n",
    "\n",
    "print(response.data)\n"
   ]
  },
  {
   "cell_type": "markdown",
   "id": "a5850f37",
   "metadata": {},
   "source": [
    "# Translation\n",
    "https://docs.oracle.com/en-us/iaas/language/using/translate-text.htm"
   ]
  },
  {
   "cell_type": "code",
   "execution_count": null,
   "id": "baac24cd",
   "metadata": {},
   "outputs": [],
   "source": [
    "# Translate a few sentences from English to Dutch.  Feel free to change the text or the languages\n",
    "\n",
    "\n",
    "key1 = \"doc1\"\n",
    "key2 = \"doc2\"\n",
    "text1 = \"The Indy Autonomous Challenge is the worlds first head-to-head, high speed autonomous race taking place at the Indianapolis Motor Speedway\"\n",
    "text2 = \"OCI will be the cloud engine for the artificial intelligence models that drive the MIT Driverless cars.\"\n",
    "target_language = \"nl\" #TODO specify the target language\n",
    "\n",
    "doc1 = oci.ai_language.models.TextDocument(key=key1, text=text1, language_code=\"en\")\n",
    "doc2 = oci.ai_language.models.TextDocument(key=key2, text=text2, language_code=\"en\")\n",
    "documents = [doc1, doc2]\n",
    "\n",
    "\n",
    "batch_language_translation_details = oci.ai_language.models.BatchLanguageTranslationDetails(\n",
    "    documents=documents, \n",
    "    compartment_id=compartmentId, \n",
    "    target_language_code=target_language)\n",
    "output = lang_client.batch_language_translation (batch_language_translation_details)\n",
    "print(output.data)"
   ]
  }
 ],
 "metadata": {
  "kernelspec": {
   "display_name": "base",
   "language": "python",
   "name": "python3"
  },
  "language_info": {
   "codemirror_mode": {
    "name": "ipython",
    "version": 3
   },
   "file_extension": ".py",
   "mimetype": "text/x-python",
   "name": "python",
   "nbconvert_exporter": "python",
   "pygments_lexer": "ipython3",
   "version": "3.11.5"
  }
 },
 "nbformat": 4,
 "nbformat_minor": 5
}
