{
 "cells": [
  {
   "cell_type": "markdown",
   "id": "b25a36f2",
   "metadata": {},
   "source": []
  },
  {
   "cell_type": "markdown",
   "id": "222552d2",
   "metadata": {},
   "source": [
    "## OCI Speech - Transcription \n",
    "\n",
    "#https://github.com/oracle/oci-python-sdk/tree/22fd62c8dbbd1aaed6b75754ec1ba8a3c16a4e5a/src/oci/ai_speech\n",
    "#https://docs.oracle.com/en-us/iaas/Content/speech/home.htm\n",
    "#oci_speech_service_users or #igiu-innovation-lab slack channel"
   ]
  },
  {
   "cell_type": "markdown",
   "id": "78a46d5e",
   "metadata": {},
   "source": [
    "## Import Libraries"
   ]
  },
  {
   "cell_type": "code",
   "execution_count": 1,
   "id": "12753a55",
   "metadata": {},
   "outputs": [],
   "source": [
    "from oci.ai_speech import AIServiceSpeechClient\n",
    "from oci.ai_speech.models import *\n",
    "from oci.config import from_file\n",
    "from oci.signer import load_private_key_from_file\n",
    "import oci\n",
    "from oci.object_storage import ObjectStorageClient\n",
    "import io"
   ]
  },
  {
   "cell_type": "markdown",
   "id": "52f561b1",
   "metadata": {},
   "source": [
    "## Set input variables"
   ]
  },
  {
   "cell_type": "code",
   "execution_count": 2,
   "id": "243e9495",
   "metadata": {},
   "outputs": [],
   "source": [
    "\n",
    "PREFIX = \"AAGARWA\"\n",
    "CONFIG_PROFILE = \"SANDBOX\"\n",
    " \n",
    "COMPARTMENT_ID= \"ocid1.compartment.oc1..aaaaaaaaxj6fuodcmai6n6z5yyqif6a36ewfmmovn42red37ml3wxlehjmga\" \n",
    "\n",
    "NAMESPACE = \"axaemuxiyife\"\n",
    "BUCKET_NAME = \"workshopbucket\"\n",
    "FILE_NAME =\"voiceover_audio.mp3\""
   ]
  },
  {
   "cell_type": "markdown",
   "id": "9c722709",
   "metadata": {},
   "source": [
    "## Load OCI config\n",
    "Set up authentication for OCI by reading configuration from a file and creating a signer instance for secure API communication. The default configuration file location is ```~/.oci/config```."
   ]
  },
  {
   "cell_type": "code",
   "execution_count": 3,
   "id": "d5ab8f98",
   "metadata": {},
   "outputs": [],
   "source": [
    "config = from_file('~/.oci/config', CONFIG_PROFILE)"
   ]
  },
  {
   "cell_type": "markdown",
   "id": "257d686e",
   "metadata": {},
   "source": [
    "## [Optional] Upload file\n",
    "\n"
   ]
  },
  {
   "cell_type": "code",
   "execution_count": 4,
   "id": "61ca8a7c",
   "metadata": {},
   "outputs": [
    {
     "name": "stdout",
     "output_type": "stream",
     "text": [
      "Uploading file voiceover_audio.mp3 ...\n"
     ]
    },
    {
     "ename": "FileNotFoundError",
     "evalue": "[Errno 2] No such file or directory: 'voiceover_audio.mp3'",
     "output_type": "error",
     "traceback": [
      "\u001b[0;31m---------------------------------------------------------------------------\u001b[0m",
      "\u001b[0;31mFileNotFoundError\u001b[0m                         Traceback (most recent call last)",
      "Cell \u001b[0;32mIn[4], line 3\u001b[0m\n\u001b[1;32m      1\u001b[0m object_storage_client \u001b[38;5;241m=\u001b[39m ObjectStorageClient(config)\n\u001b[1;32m      2\u001b[0m \u001b[38;5;28mprint\u001b[39m(\u001b[38;5;124mf\u001b[39m\u001b[38;5;124m\"\u001b[39m\u001b[38;5;124mUploading file \u001b[39m\u001b[38;5;132;01m{\u001b[39;00mFILE_NAME\u001b[38;5;132;01m}\u001b[39;00m\u001b[38;5;124m ...\u001b[39m\u001b[38;5;124m\"\u001b[39m)\n\u001b[0;32m----> 3\u001b[0m object_storage_client\u001b[38;5;241m.\u001b[39mput_object(NAMESPACE, BUCKET_NAME, FILE_NAME, io\u001b[38;5;241m.\u001b[39mopen(FILE_NAME,\u001b[38;5;124m'\u001b[39m\u001b[38;5;124mrb\u001b[39m\u001b[38;5;124m'\u001b[39m))\n\u001b[1;32m      4\u001b[0m \u001b[38;5;28mprint\u001b[39m(\u001b[38;5;124m\"\u001b[39m\u001b[38;5;124mUpload completed !\u001b[39m\u001b[38;5;124m\"\u001b[39m)\n",
      "\u001b[0;31mFileNotFoundError\u001b[0m: [Errno 2] No such file or directory: 'voiceover_audio.mp3'"
     ]
    }
   ],
   "source": [
    "object_storage_client = ObjectStorageClient(config)\n",
    "print(f\"Uploading file {FILE_NAME} ...\")\n",
    "object_storage_client.put_object(NAMESPACE, BUCKET_NAME, FILE_NAME, io.open(FILE_NAME,'rb'))\n",
    "print(\"Upload completed !\")"
   ]
  },
  {
   "cell_type": "markdown",
   "id": "3659a889",
   "metadata": {},
   "source": [
    "## Create AI service Speech client"
   ]
  },
  {
   "cell_type": "code",
   "execution_count": 5,
   "id": "24901984",
   "metadata": {},
   "outputs": [],
   "source": [
    "speech_client =AIServiceSpeechClient(config=config,signer= oci.signer.Signer(\n",
    "        tenancy=config[\"tenancy\"],\n",
    "        user=config[\"user\"],\n",
    "        fingerprint=config[\"fingerprint\"],\n",
    "        private_key_file_location=config[\"key_file\"]\n",
    "        ),\n",
    "        service_endpoint=\" https://speech.aiservice.us-phoenix-1.oci.oraclecloud.com\")"
   ]
  },
  {
   "cell_type": "markdown",
   "id": "b372e6d8",
   "metadata": {},
   "source": [
    "## Set the input location"
   ]
  },
  {
   "cell_type": "code",
   "execution_count": 6,
   "id": "b42b6c72",
   "metadata": {},
   "outputs": [],
   "source": [
    "object_location = oci.ai_speech.models.ObjectLocation(namespace_name=NAMESPACE, bucket_name=BUCKET_NAME,\n",
    "    object_names=[FILE_NAME])\n",
    "input_location = oci.ai_speech.models.ObjectListInlineInputLocation(\n",
    "    location_type=\"OBJECT_LIST_INLINE_INPUT_LOCATION\", object_locations=[object_location])"
   ]
  },
  {
   "cell_type": "markdown",
   "id": "76e4ddb4",
   "metadata": {},
   "source": [
    "## set the output location"
   ]
  },
  {
   "cell_type": "code",
   "execution_count": 7,
   "id": "3e27bcc6",
   "metadata": {},
   "outputs": [],
   "source": [
    "output_location = oci.ai_speech.models.OutputLocation(namespace_name=NAMESPACE, bucket_name=BUCKET_NAME, prefix=PREFIX)\n",
    " "
   ]
  },
  {
   "cell_type": "markdown",
   "id": "0a177284",
   "metadata": {},
   "source": [
    "## Setup input feature \n",
    "You can specify the features you want to call. Note not all features are supported for all calls \n",
    "\n",
    "\n",
    "*******   ONLY RUN Either WHISPER or ORACLE MODELS ******\n",
    "### Oracle "
   ]
  },
  {
   "cell_type": "code",
   "execution_count": 8,
   "id": "983ccf8a",
   "metadata": {},
   "outputs": [],
   "source": [
    "# features for Oracle model\n",
    "sample_normalization = oci.ai_speech.models.TranscriptionNormalization(is_punctuation_enabled=True)\n",
    "\n",
    "transcription_settings = oci.ai_speech.models.TranscriptionSettings(\n",
    "        diarization= oci.ai_speech.models.Diarization(is_diarization_enabled=True)  # dosnt specify number_of_speakers as its auto detected\n",
    "    )\n",
    "\n",
    "model_details = oci.ai_speech.models.TranscriptionModelDetails(\n",
    "        language_code=\"en-US\", \n",
    "        model_type=\"ORACLE\",\n",
    "        domain = \"GENERIC\",   # only generic domain is supported for now\n",
    "        transcription_settings =transcription_settings \n",
    "        )\n"
   ]
  },
  {
   "cell_type": "markdown",
   "id": "8afd19f9",
   "metadata": {},
   "source": [
    "******* ONLY RUN WHISPER OR ORACLE MODELS ******\n",
    "\n",
    "### Whisper"
   ]
  },
  {
   "cell_type": "code",
   "execution_count": null,
   "id": "6e5db718",
   "metadata": {},
   "outputs": [],
   "source": [
    "# features for Whisper model\n",
    "sample_normalization = oci.ai_speech.models.TranscriptionNormalization(is_punctuation_enabled=True)\n",
    "\n",
    "transcription_settings = oci.ai_speech.models.TranscriptionSettings(\n",
    "        diarization= oci.ai_speech.models.Diarization(is_diarization_enabled=True)  # dosnt specify number_of_speakers as its auto detected\n",
    "    )\n",
    "model_details = oci.ai_speech.models.TranscriptionModelDetails(\n",
    "        language_code=\"en\", \n",
    "        model_type=\"WHISPER_MEDIUM\",\n",
    "        domain = \"GENERIC\",   # only generic domain is supported for now\n",
    "        transcription_settings =transcription_settings \n",
    "        )\n"
   ]
  },
  {
   "cell_type": "markdown",
   "id": "da59ec19",
   "metadata": {},
   "source": [
    "## Create Speech Analysis detaiis"
   ]
  },
  {
   "cell_type": "code",
   "execution_count": 9,
   "id": "52e27e99",
   "metadata": {},
   "outputs": [],
   "source": [
    "# Create Transcription Job with details provided\n",
    "transcription_job_details = oci.ai_speech.models.CreateTranscriptionJobDetails(display_name=\"WorkshopTest\",\n",
    "    compartment_id=COMPARTMENT_ID,\n",
    "    description=\"testing duirnhg workhop\",\n",
    "    model_details=model_details,\n",
    "    input_location=input_location,\n",
    "    additional_transcription_formats=[\"SRT\"],\n",
    "    normalization=sample_normalization,\n",
    "    output_location=output_location\n",
    "    )"
   ]
  },
  {
   "cell_type": "markdown",
   "id": "d6f153e0",
   "metadata": {},
   "source": [
    "## Run the job\n"
   ]
  },
  {
   "cell_type": "code",
   "execution_count": 10,
   "id": "80a695df",
   "metadata": {},
   "outputs": [
    {
     "name": "stdout",
     "output_type": "stream",
     "text": [
      "{\n",
      "  \"additional_transcription_formats\": [\n",
      "    \"SRT\"\n",
      "  ],\n",
      "  \"compartment_id\": \"ocid1.compartment.oc1..aaaaaaaa5wmdeu3rf5s4rs4l66rksphne2orz4buauniiqtar63du6ni7icq\",\n",
      "  \"created_by\": \"ocid1.user.oc1..aaaaaaaaacm2bvhb2idv5jk2vzwge6fwiuus4o47j4xa3q7niwexnvtr6weq\",\n",
      "  \"defined_tags\": {\n",
      "    \"Oracle-Tags\": {\n",
      "      \"CreatedBy\": \"workshopusers/ashish.ag.agarwal@oracle.com\",\n",
      "      \"CreatedOn\": \"2024-12-11T09:38:19.174Z\"\n",
      "    }\n",
      "  },\n",
      "  \"description\": \"testing duirnhg workhop\",\n",
      "  \"display_name\": \"WorkshopTest\",\n",
      "  \"freeform_tags\": {},\n",
      "  \"id\": \"ocid1.aispeechtranscriptionjob.oc1.phx.amaaaaaaghwivzaaulto2be2bkpx2cj4pkkbxomne4zreuuobs6unnnwko3q\",\n",
      "  \"input_location\": {\n",
      "    \"location_type\": \"OBJECT_LIST_INLINE_INPUT_LOCATION\",\n",
      "    \"object_locations\": [\n",
      "      {\n",
      "        \"bucket_name\": \"workshopbucket\",\n",
      "        \"namespace_name\": \"axaemuxiyife\",\n",
      "        \"object_names\": [\n",
      "          \"voiceover_audio.mp3\"\n",
      "        ]\n",
      "      }\n",
      "    ]\n",
      "  },\n",
      "  \"lifecycle_details\": null,\n",
      "  \"lifecycle_state\": \"ACCEPTED\",\n",
      "  \"model_details\": {\n",
      "    \"domain\": \"GENERIC\",\n",
      "    \"language_code\": \"en-US\",\n",
      "    \"model_type\": \"ORACLE\",\n",
      "    \"transcription_settings\": {\n",
      "      \"diarization\": {\n",
      "        \"is_diarization_enabled\": true,\n",
      "        \"number_of_speakers\": null\n",
      "      }\n",
      "    }\n",
      "  },\n",
      "  \"normalization\": {\n",
      "    \"filters\": null,\n",
      "    \"is_punctuation_enabled\": true\n",
      "  },\n",
      "  \"output_location\": {\n",
      "    \"bucket_name\": \"workshopbucket\",\n",
      "    \"namespace_name\": \"axaemuxiyife\",\n",
      "    \"prefix\": \"AAGARWA/job-amaaaaaaghwivzaaulto2be2bkpx2cj4pkkbxomne4zreuuobs6unnnwko3q/\"\n",
      "  },\n",
      "  \"outstanding_tasks\": 1,\n",
      "  \"percent_complete\": 0,\n",
      "  \"successful_tasks\": 0,\n",
      "  \"system_tags\": {},\n",
      "  \"time_accepted\": \"2024-12-11T09:38:19.322000+00:00\",\n",
      "  \"time_finished\": null,\n",
      "  \"time_started\": null,\n",
      "  \"total_tasks\": 1,\n",
      "  \"ttl_in_days\": 90\n",
      "}\n"
     ]
    }
   ],
   "source": [
    "transcription_job = None\n",
    "try:\n",
    "    transcription_job = speech_client.create_transcription_job(create_transcription_job_details=transcription_job_details)\n",
    "except Exception as e:\n",
    "    print(e)\n",
    "else:\n",
    "    print(transcription_job.data)"
   ]
  },
  {
   "cell_type": "markdown",
   "id": "a092c92d",
   "metadata": {},
   "source": [
    "## Exercise : transcription\n",
    "\n",
    "1. Create an App that  takes in an audio\n",
    "    * Uses diarization to transcribe\n",
    "    * Compare Oracle & Wisper models\n",
    "    * Compare with original question  ( from tts exercise)\n",
    "\n",
    "1. Take an zoom recording\n",
    "    * Transcribe\n",
    "      * With captions\n",
    "    * Summarize using llm\n",
    "\n"
   ]
  }
 ],
 "metadata": {
  "kernelspec": {
   "display_name": "base",
   "language": "python",
   "name": "python3"
  },
  "language_info": {
   "codemirror_mode": {
    "name": "ipython",
    "version": 3
   },
   "file_extension": ".py",
   "mimetype": "text/x-python",
   "name": "python",
   "nbconvert_exporter": "python",
   "pygments_lexer": "ipython3",
   "version": "3.11.5"
  }
 },
 "nbformat": 4,
 "nbformat_minor": 5
}
