{
 "cells": [
  {
   "cell_type": "markdown",
   "id": "b25a36f2",
   "metadata": {},
   "source": []
  },
  {
   "cell_type": "markdown",
   "id": "222552d2",
   "metadata": {},
   "source": [
    "## OCI Speech  (Text to speech)\n",
    "\n",
    "\n",
    "helpful links\n",
    "- https://github.com/oracle/oci-python-sdk/tree/22fd62c8dbbd1aaed6b75754ec1ba8a3c16a4e5a/src/oci/ai_speech\n",
    "- https://docs.oracle.com/en-us/iaas/Content/speech/home.htm\n",
    "- #oci_speech_service_users or #igiu-innovation-lab slack channel \n",
    "- if you have errors running sample code reach out for help in #igiu-ai-learning"
   ]
  },
  {
   "cell_type": "markdown",
   "id": "78a46d5e",
   "metadata": {},
   "source": [
    "## Import Libraries"
   ]
  },
  {
   "cell_type": "code",
   "execution_count": 1,
   "id": "12753a55",
   "metadata": {},
   "outputs": [],
   "source": [
    "from oci.ai_speech import AIServiceSpeechClient\n",
    "from oci.ai_speech.models import *\n",
    "from oci.config import from_file\n",
    "from oci.signer import load_private_key_from_file\n",
    "import oci\n",
    "import os"
   ]
  },
  {
   "cell_type": "markdown",
   "id": "fadd21b3",
   "metadata": {},
   "source": [
    "### Update variable to your versions"
   ]
  },
  {
   "cell_type": "code",
   "execution_count": 2,
   "id": "4d3e78d5",
   "metadata": {},
   "outputs": [],
   "source": [
    "CONFIG_PROFILE = \"AISANDBOX\"  #change me "
   ]
  },
  {
   "cell_type": "markdown",
   "id": "52f561b1",
   "metadata": {},
   "source": [
    "## Set input variables"
   ]
  },
  {
   "cell_type": "code",
   "execution_count": 3,
   "id": "243e9495",
   "metadata": {},
   "outputs": [],
   "source": [
    "  \n",
    "endpoint = \"https://speech.aiservice.us-phoenix-1.oci.oraclecloud.com\"\n",
    "ccompartmentId= \"ocid1.compartment.oc1..aaaaaaaaxj6fuodcmai6n6z5yyqif6a36ewfmmovn42red37ml3wxlehjmga\" \n",
    "\n",
    "filename = \"tts.mp3\"  \n",
    "\n",
    "# Supported output formats\n",
    "# - TtsOracleSpeechSettings.OUTPUT_FORMAT_PCM\n",
    "# - TtsOracleSpeechSettings.OUTPUT_FORMAT_MP3\n",
    "# - TtsOracleSpeechSettings.OUTPUT_FORMAT_JSON\n",
    "# - TtsOracleSpeechSettings.OUTPUT_FORMAT_OGG\n",
    "outputFormat = TtsOracleSpeechSettings.OUTPUT_FORMAT_MP3\n",
    "  \n",
    "   \n",
    "# This is the sample rate of the generated speech.\n",
    "sampleRateInHz = 22050\n",
    "   \n",
    "#  \n",
    "# Specify speech mark types to obtain in case of Json output\n",
    "# This field will be ignored if the output format is not Json\n",
    "# The output json will contain all the speech mark types mentioned in the below list\n",
    "speechMarkTypes = [TtsOracleSpeechSettings.SPEECH_MARK_TYPES_WORD, TtsOracleSpeechSettings.SPEECH_MARK_TYPES_SENTENCE]\n",
    "\n",
    "# If you want to enable streaming, set this value to true.\n",
    "# With streaming, response is sent back in chunks.\n",
    "# This means that you don't have to wait for entire speech to be generated before you can start using it.\n",
    "isStreamEnabled = True\n",
    "   "
   ]
  },
  {
   "cell_type": "markdown",
   "id": "46906ce6",
   "metadata": {},
   "source": [
    "## Variables to experiment with "
   ]
  },
  {
   "cell_type": "code",
   "execution_count": 4,
   "id": "b4105231",
   "metadata": {},
   "outputs": [],
   "source": [
    "# The input text can be passed in an SSML format as well.\n",
    "# https://confluence.oci.oraclecorp.com/x/8Jcgvw\n",
    "textType = TtsOracleSpeechSettings.TEXT_TYPE_TEXT\n",
    "#textType = TtsOracleSpeechSettings.TEXT_TYPE_SSML\n",
    "\n",
    "#ssml tags: https://docs.oracle.com/en-us/iaas/Content/speech/using/using-tts.htm\n",
    "text = \"A paragraph is a series of sentences that are organized and coherent, and are all related to a single topic. Almost every piece of writing you do that is longer than a few sentences should be organized into paragraphs.\"\n",
    "#text = \"\"\"\n",
    "#<speak>\n",
    "#  <sub alias=\"see oh two over see oh\">CO2/CO </sub>  is made up of molecules that each have one carbon atom  double bonded to two oxygen\n",
    "#</speak>\n",
    "#\"\"\"\n",
    "\n",
    "# if you choose naturl voice use natutal model and vica-versa\n",
    "voiceId = \"Brian\"  # natural brian, annabell, Bob, Stacy, Cindy, Phil \n",
    "#voiceId = \"Stacy\" # std voceis Bob, Stacy, Cindy, Phil\n",
    "\n",
    "voice_model_details = TtsOracleTts2NaturalModelDetails (\n",
    "                voice_id=voiceId\n",
    "            ) \n",
    "\n",
    "#voice_model_details = TtsOracleTts1StandardModelDetails (\n",
    "#                voice_id=voiceId\n",
    "#            )\n"
   ]
  },
  {
   "cell_type": "markdown",
   "id": "9c722709",
   "metadata": {},
   "source": [
    "## Load OCI config\n",
    "Set up authentication for OCI by reading configuration from a file and creating a signer instance for secure API communication. The default configuration file location is ```~/.oci/config```."
   ]
  },
  {
   "cell_type": "code",
   "execution_count": 5,
   "id": "d5ab8f98",
   "metadata": {},
   "outputs": [],
   "source": [
    "config = oci.config.from_file('~/.oci/config', profile_name=CONFIG_PROFILE)"
   ]
  },
  {
   "cell_type": "markdown",
   "id": "3659a889",
   "metadata": {},
   "source": [
    "## Create AI service speech client"
   ]
  },
  {
   "cell_type": "code",
   "execution_count": 6,
   "id": "24901984",
   "metadata": {},
   "outputs": [],
   "source": [
    "private_key = load_private_key_from_file(config['key_file'])\n",
    "\n",
    "speech_client = AIServiceSpeechClient(config=config,signer= oci.signer.Signer(\n",
    "        tenancy=config[\"tenancy\"],\n",
    "        user=config[\"user\"],\n",
    "        fingerprint=config[\"fingerprint\"],\n",
    "        private_key_file_location=config[\"key_file\"]\n",
    "        ),\n",
    "        service_endpoint=endpoint)\n",
    "    "
   ]
  },
  {
   "cell_type": "markdown",
   "id": "da59ec19",
   "metadata": {},
   "source": [
    "## Create Speech analysis details"
   ]
  },
  {
   "cell_type": "code",
   "execution_count": 7,
   "id": "52e27e99",
   "metadata": {},
   "outputs": [],
   "source": [
    "speech_details = SynthesizeSpeechDetails(\n",
    "        text = text,\n",
    "        is_stream_enabled=isStreamEnabled,\n",
    "        compartment_id = compartmentId,\n",
    "        configuration = TtsOracleConfiguration(\n",
    "             model_details = voice_model_details,\n",
    "            speech_settings = TtsOracleSpeechSettings(\n",
    "                text_type = textType,\n",
    "                sample_rate_in_hz = sampleRateInHz,\n",
    "                output_format = outputFormat,\n",
    "                speech_mark_types = speechMarkTypes\n",
    "            )\n",
    "        )\n",
    "    )"
   ]
  },
  {
   "cell_type": "markdown",
   "id": "d6f153e0",
   "metadata": {},
   "source": [
    "## Analysize the speech  \n"
   ]
  },
  {
   "cell_type": "code",
   "execution_count": 8,
   "id": "80a695df",
   "metadata": {},
   "outputs": [],
   "source": [
    "response = speech_client.synthesize_speech(speech_details)\n",
    "if (response.status != 200):\n",
    "    print(f'Request failed with {response.status}')\n"
   ]
  },
  {
   "cell_type": "markdown",
   "id": "a4e95c83",
   "metadata": {},
   "source": [
    "## save the audio"
   ]
  },
  {
   "cell_type": "code",
   "execution_count": 9,
   "id": "22225c8c",
   "metadata": {},
   "outputs": [
    {
     "name": "stdout",
     "output_type": "stream",
     "text": [
      "TTS files saved at tts.mp3 in /Users/ashish/work/code/python/workshop/speech\n"
     ]
    }
   ],
   "source": [
    "with open(filename, 'wb') as f:\n",
    "    for b in response.data.iter_content():\n",
    "        f.write(b)\n",
    "print (f\"TTS files saved at {filename} in {os.getcwd()}\")"
   ]
  },
  {
   "cell_type": "markdown",
   "id": "cf3e357b",
   "metadata": {},
   "source": [
    "## Exercise : generate an coversation with two people\n",
    "\n",
    "1. Prompt llm to generate a transcript between two people in a JSON format\n",
    "    * Customer service agent\n",
    "    * Customer wanting to return an item \n",
    "1. Use two different voices to convert each sentence into a mp3 file\n",
    "1. Combine the individual voice fragments into one\n"
   ]
  }
 ],
 "metadata": {
  "kernelspec": {
   "display_name": "base",
   "language": "python",
   "name": "python3"
  },
  "language_info": {
   "codemirror_mode": {
    "name": "ipython",
    "version": 3
   },
   "file_extension": ".py",
   "mimetype": "text/x-python",
   "name": "python",
   "nbconvert_exporter": "python",
   "pygments_lexer": "ipython3",
   "version": "3.11.5"
  }
 },
 "nbformat": 4,
 "nbformat_minor": 5
}
